{
 "cells": [
  {
   "cell_type": "markdown",
   "metadata": {},
   "source": [
    "# Binterview"
   ]
  },
  {
   "cell_type": "markdown",
   "metadata": {},
   "source": [
    "Objective #1\n",
    "- Tell us the conversation rate of Pilot Opportunities to Annual Opportunities\n",
    "  - On the opportunity object, there is a unique id that connects pilots opportunities to annuals\n",
    "  - Annuals are defined as Type = Bulk\n",
    "  - Pilots and Annuals are related upon the pilot being won\n",
    "- What is the likelihood that an annual will be won when creating a pilot?\n",
    "- What is the likelihood that an annual will be won when winning a pilot?\n",
    "\n",
    "Objective #2\n",
    "- Of all the sessions requested how many are sold?\n",
    "  - All Opportunities have a Session Request and all Session Requests that are Accepted are associated with the Session Record\n",
    "- What requested Research Product is most likely to be sold? Explain how you came to that conclusion.\n",
    "  - Sessions have Service Requests Records related to them, these records are the Products that are being requested by the sales team and relate back to the Product in our Product Catalog.\n",
    "\n",
    "Objective #2\n",
    "- What is the average Booking value of Opportunities with sessions sold since July?"
   ]
  },
  {
   "cell_type": "markdown",
   "metadata": {},
   "source": [
    "## Imports"
   ]
  },
  {
   "cell_type": "code",
   "execution_count": 25,
   "metadata": {},
   "outputs": [],
   "source": [
    "# Import libraries\n",
    "import pandas as pd\n",
    "import numpy as np\n",
    "import seaborn as sns\n",
    "import matplotlib.pyplot as plt\n",
    "%matplotlib inline\n",
    "import datetime as datetime\n",
    "\n",
    "#SQL\n",
    "import mysql.connector\n",
    "import os"
   ]
  },
  {
   "cell_type": "code",
   "execution_count": 2,
   "metadata": {},
   "outputs": [],
   "source": [
    "# Import Salesforce data\n",
    "contracts_df = pd.read_csv('contracts.csv')\n",
    "opps_df = pd.read_csv('Opps Table (July to present).csv')\n",
    "product_df = pd.read_csv('Product Table.csv')\n",
    "project_df = pd.read_csv('project_request__cs.csv')\n",
    "RProject_df = pd.read_csv('remesh_project__cs.csv')\n",
    "service_df = pd.read_csv('service_request__cs.csv')\n",
    "SessionRequest_df = pd.read_csv('Session Request Table.csv')\n",
    "session_cs_df = pd.read_csv('session__cs.csv')\n",
    "SessionProduct_df = pd.read_csv('session_product__cs.csv')"
   ]
  },
  {
   "cell_type": "markdown",
   "metadata": {},
   "source": [
    "__Contracts__ <br />\n",
    "DB Name: contracts_df <br />\n",
    "File Name: contracts.csv <br />\n",
    "1367 entries <br />"
   ]
  },
  {
   "cell_type": "code",
   "execution_count": 21,
   "metadata": {},
   "outputs": [
    {
     "name": "stdout",
     "output_type": "stream",
     "text": [
      "<class 'pandas.core.frame.DataFrame'>\n",
      "RangeIndex: 1367 entries, 0 to 1366\n",
      "Data columns (total 61 columns):\n",
      " #   Column                                 Non-Null Count  Dtype  \n",
      "---  ------                                 --------------  -----  \n",
      " 0   Id                                     1367 non-null   object \n",
      " 1   AccountId                              1367 non-null   object \n",
      " 2   Pricebook2Id                           1367 non-null   object \n",
      " 3   OwnerExpirationNotice                  0 non-null      float64\n",
      " 4   StartDate                              1367 non-null   object \n",
      " 5   EndDate                                1367 non-null   object \n",
      " 6   BillingStreet                          0 non-null      float64\n",
      " 7   BillingCity                            0 non-null      float64\n",
      " 8   BillingState                           0 non-null      float64\n",
      " 9   BillingPostalCode                      0 non-null      float64\n",
      " 10  BillingCountry                         1367 non-null   object \n",
      " 11  BillingStateCode                       0 non-null      float64\n",
      " 12  BillingCountryCode                     1367 non-null   object \n",
      " 13  BillingLatitude                        0 non-null      float64\n",
      " 14  BillingLongitude                       0 non-null      float64\n",
      " 15  BillingGeocodeAccuracy                 0 non-null      float64\n",
      " 16  ShippingStreet                         0 non-null      float64\n",
      " 17  ShippingCity                           0 non-null      float64\n",
      " 18  ShippingState                          0 non-null      float64\n",
      " 19  ShippingPostalCode                     0 non-null      float64\n",
      " 20  ShippingCountry                        1367 non-null   object \n",
      " 21  ShippingStateCode                      0 non-null      float64\n",
      " 22  ShippingCountryCode                    1367 non-null   object \n",
      " 23  ShippingLatitude                       0 non-null      float64\n",
      " 24  ShippingLongitude                      0 non-null      float64\n",
      " 25  ShippingGeocodeAccuracy                0 non-null      float64\n",
      " 26  ContractTerm                           1367 non-null   int64  \n",
      " 27  OwnerId                                1367 non-null   object \n",
      " 28  Status                                 1367 non-null   object \n",
      " 29  CompanySignedId                        0 non-null      float64\n",
      " 30  CompanySignedDate                      0 non-null      float64\n",
      " 31  CustomerSignedId                       0 non-null      float64\n",
      " 32  CustomerSignedTitle                    0 non-null      float64\n",
      " 33  CustomerSignedDate                     0 non-null      float64\n",
      " 34  SpecialTerms                           6 non-null      object \n",
      " 35  ActivatedById                          1360 non-null   object \n",
      " 36  ActivatedDate                          1360 non-null   object \n",
      " 37  StatusCode                             1367 non-null   object \n",
      " 38  Description                            22 non-null     object \n",
      " 39  Name                                   0 non-null      float64\n",
      " 40  IsDeleted                              1367 non-null   bool   \n",
      " 41  ContractNumber                         1367 non-null   int64  \n",
      " 42  LastApprovedDate                       0 non-null      float64\n",
      " 43  CreatedDate                            1367 non-null   object \n",
      " 44  CreatedById                            1367 non-null   object \n",
      " 45  LastModifiedDate                       1367 non-null   object \n",
      " 46  LastModifiedById                       1367 non-null   object \n",
      " 47  SystemModstamp                         1367 non-null   object \n",
      " 48  LastActivityDate                       0 non-null      float64\n",
      " 49  Auto_Renew__c                          1367 non-null   bool   \n",
      " 50  Custom_Payment_Terms__c                774 non-null    object \n",
      " 51  Invoiced_In_Arrears_Balance_Amount__c  0 non-null      float64\n",
      " 52  Originating_Opportunity__c             1366 non-null   object \n",
      " 53  PO_Number__c                           0 non-null      float64\n",
      " 54  Payment_Frequency__c                   333 non-null    object \n",
      " 55  Payment_Terms__c                       347 non-null    object \n",
      " 56  Customer_Success_Rep__c                829 non-null    object \n",
      " 57  Billing_Contact__c                     253 non-null    object \n",
      " 58  Logo__c                                1351 non-null   object \n",
      " 59  First_Conversation_Date__c             783 non-null    object \n",
      " 60  Last_Conversation_Date__c              783 non-null    object \n",
      "dtypes: bool(2), float64(27), int64(2), object(30)\n",
      "memory usage: 632.9+ KB\n"
     ]
    }
   ],
   "source": [
    "contracts_df.info()"
   ]
  },
  {
   "cell_type": "code",
   "execution_count": 19,
   "metadata": {},
   "outputs": [
    {
     "data": {
      "text/plain": [
       "count                   1367\n",
       "unique                  1367\n",
       "top       8002M000000eYaiQAE\n",
       "freq                       1\n",
       "Name: Id, dtype: object"
      ]
     },
     "execution_count": 19,
     "metadata": {},
     "output_type": "execute_result"
    }
   ],
   "source": [
    "contracts_df.Id.describe()"
   ]
  },
  {
   "cell_type": "code",
   "execution_count": null,
   "metadata": {},
   "outputs": [],
   "source": []
  },
  {
   "cell_type": "markdown",
   "metadata": {},
   "source": [
    "__Opportunities__ <br />\n",
    "DB Name: opps_df <br />\n",
    "File Name: Opps Table (July to present).csv <br />\n",
    "721 entries <br />"
   ]
  },
  {
   "cell_type": "code",
   "execution_count": 20,
   "metadata": {},
   "outputs": [
    {
     "data": {
      "text/plain": [
       "count                    721\n",
       "unique                   721\n",
       "top       0062M00000kvZKEQA2\n",
       "freq                       1\n",
       "Name: Id, dtype: object"
      ]
     },
     "execution_count": 20,
     "metadata": {},
     "output_type": "execute_result"
    }
   ],
   "source": [
    "opps_df.Id.describe()"
   ]
  },
  {
   "cell_type": "code",
   "execution_count": 17,
   "metadata": {},
   "outputs": [
    {
     "name": "stdout",
     "output_type": "stream",
     "text": [
      "Id\n",
      "IsDeleted\n",
      "AccountId\n",
      "RecordTypeId\n",
      "IsPrivate\n",
      "StageName\n",
      "Amount\n",
      "Probability\n",
      "ExpectedRevenue\n",
      "TotalOpportunityQuantity\n",
      "CloseDate\n",
      "Type\n",
      "LeadSource\n",
      "IsClosed\n",
      "IsWon\n",
      "ForecastCategory\n",
      "ForecastCategoryName\n",
      "CampaignId\n",
      "Pricebook2Id\n",
      "OwnerId\n",
      "CreatedDate\n",
      "CreatedById\n",
      "LastModifiedDate\n",
      "LastModifiedById\n",
      "SystemModstamp\n",
      "LastActivityDate\n",
      "FiscalQuarter\n",
      "FiscalYear\n",
      "Fiscal\n",
      "ContactId\n",
      "SyncedQuoteId\n",
      "ContractId\n",
      "HasOverdueTask\n",
      "IqScore\n",
      "Budget_Confirmed__c\n",
      "Discovery_Completed__c\n",
      "ROI_Analysis_Completed__c\n",
      "Salesforce_Opportunity__c\n",
      "Loss_Reason__c\n",
      "Billing_Contact__c\n",
      "Projects_on_this_opportunity__c\n",
      "Confirmed_Session_Date_Time__c\n",
      "PO_Number__c\n",
      "PushCount__c\n",
      "Meeting_or_Demo_Date__c\n",
      "PM_Overseeing__c\n",
      "Bid_Request__c\n",
      "Recognized_Revenue_from_Projects__c\n",
      "Preferred_Sample_Size__c\n",
      "Request_for_a_CS_Manager__c\n",
      "Lead_Id__c\n",
      "Primary_Contact__c\n",
      "Top_of_Funnel_Entry_Date__c\n",
      "Support_needs__c\n",
      "APM_or_Bulk__c\n",
      "In_house_Services_Approved__c\n",
      "Project_Manager__c\n",
      "QB_Journal_Sync_Error__c\n",
      "Invoice_sent__c\n",
      "Cancellation_Fee__c\n",
      "CS_Manager__c\n",
      "Marketing_Source__c\n",
      "Closed_Won_Date_Time__c\n",
      "Contract_Sent_Date_Time__c\n",
      "SDR__c\n",
      "Company_Region__c\n",
      "Company_Division__c\n",
      "Use_Case__c\n",
      "Number_of_Accepted_Projects__c\n",
      "Opportunity_Logo_Classification__c\n",
      "ABM_Account__c\n",
      "Payment_Terms__c\n",
      "Contract_Start_Date__c\n",
      "Contract_End_Date__c\n",
      "LID__Is_Influenced__c\n",
      "LID__LinkedIn_Company_Id__c\n",
      "Auto_Renewal__c\n",
      "Rollover_Percentage__c\n",
      "Sales_First_Contact_Date__c\n",
      "Billing_Type__c\n",
      "SalesLoft1__Primary_Contact__c\n",
      "Pilot__c\n",
      "Signed_Paperwork_Attached__c\n",
      "Request_In_House_Services__c\n",
      "Total_Revenue_From_Purch_History__c\n",
      "Total_Sample_Products__c\n",
      "Predicted_Sample_Cost__c\n",
      "Total_Sample_Cost__c\n",
      "Total_In_House_Service_Cost__c\n",
      "Annual_Opportunity__c\n",
      "Pilot_Opportunity__c\n",
      "Platform_Type__c\n",
      "Opportunity_Amendment_Notes__c\n",
      "Billing_Instructions__c\n",
      "Custom_Payment_Terms__c\n",
      "PO_Required__c\n",
      "Payment_Frequency__c\n",
      "Term_Months__c\n",
      "Opp_Category__c\n",
      "Outreach_First_Primary_Contact_Sequence__c\n",
      "Outreach_First_Primary_Contact__c\n",
      "Notify_User_Of_Opp_Account_Change__c\n",
      "Adjustment_Reason__c\n",
      "Contract_Term_Months__c\n",
      "Deal_Type__c\n",
      "Is_Pilot__c\n",
      "PO_Amount__c\n",
      "Renewed_from_Contract__c\n",
      "Special_Terms__c\n"
     ]
    }
   ],
   "source": [
    "for col in opps_df.columns: \n",
    "    print(col)"
   ]
  },
  {
   "cell_type": "markdown",
   "metadata": {},
   "source": [
    "__Products__ <br />\n",
    "DB Name: product_df <br />\n",
    "File Name: Product Table.csv <br />\n",
    "128 entries <br />"
   ]
  },
  {
   "cell_type": "code",
   "execution_count": 24,
   "metadata": {},
   "outputs": [
    {
     "data": {
      "text/html": [
       "<div>\n",
       "<style scoped>\n",
       "    .dataframe tbody tr th:only-of-type {\n",
       "        vertical-align: middle;\n",
       "    }\n",
       "\n",
       "    .dataframe tbody tr th {\n",
       "        vertical-align: top;\n",
       "    }\n",
       "\n",
       "    .dataframe thead th {\n",
       "        text-align: right;\n",
       "    }\n",
       "</style>\n",
       "<table border=\"1\" class=\"dataframe\">\n",
       "  <thead>\n",
       "    <tr style=\"text-align: right;\">\n",
       "      <th></th>\n",
       "      <th>Product Name</th>\n",
       "      <th>Active (Product)</th>\n",
       "      <th>Product 18 Chad Id</th>\n",
       "      <th>Product Description</th>\n",
       "      <th>Product Code</th>\n",
       "      <th>Product Type</th>\n",
       "      <th>Product Family</th>\n",
       "      <th>Sub-Family</th>\n",
       "    </tr>\n",
       "  </thead>\n",
       "  <tbody>\n",
       "    <tr>\n",
       "      <th>0</th>\n",
       "      <td>Active Participant Minute</td>\n",
       "      <td>1</td>\n",
       "      <td>01t2M000005NAvEQAW</td>\n",
       "      <td>Price for a single Active Participant Minute--...</td>\n",
       "      <td>NaN</td>\n",
       "      <td>Revenue</td>\n",
       "      <td>Product</td>\n",
       "      <td>Platform</td>\n",
       "    </tr>\n",
       "    <tr>\n",
       "      <th>1</th>\n",
       "      <td>Discussion Guide</td>\n",
       "      <td>1</td>\n",
       "      <td>01t2M000005nonvQAA</td>\n",
       "      <td>Discussion Guide only</td>\n",
       "      <td>NaN</td>\n",
       "      <td>NaN</td>\n",
       "      <td>NaN</td>\n",
       "      <td>NaN</td>\n",
       "    </tr>\n",
       "    <tr>\n",
       "      <th>2</th>\n",
       "      <td>Discussion Guide, Moderation</td>\n",
       "      <td>0</td>\n",
       "      <td>01t2M000005noo0QAA</td>\n",
       "      <td>Discussion Guide, Moderation</td>\n",
       "      <td>NaN</td>\n",
       "      <td>NaN</td>\n",
       "      <td>NaN</td>\n",
       "      <td>NaN</td>\n",
       "    </tr>\n",
       "    <tr>\n",
       "      <th>3</th>\n",
       "      <td>DG, Moderation, Topline Report</td>\n",
       "      <td>1</td>\n",
       "      <td>01t2M000005noo5QAA</td>\n",
       "      <td>DG, Moderation, Topline Report</td>\n",
       "      <td>NaN</td>\n",
       "      <td>NaN</td>\n",
       "      <td>NaN</td>\n",
       "      <td>NaN</td>\n",
       "    </tr>\n",
       "    <tr>\n",
       "      <th>4</th>\n",
       "      <td>DG, Moderation, Moderate Report</td>\n",
       "      <td>1</td>\n",
       "      <td>01t2M000005nooAQAQ</td>\n",
       "      <td>DG, Moderation, Moderate Report</td>\n",
       "      <td>NaN</td>\n",
       "      <td>NaN</td>\n",
       "      <td>NaN</td>\n",
       "      <td>NaN</td>\n",
       "    </tr>\n",
       "  </tbody>\n",
       "</table>\n",
       "</div>"
      ],
      "text/plain": [
       "                      Product Name  Active (Product)  Product 18 Chad Id  \\\n",
       "0        Active Participant Minute                 1  01t2M000005NAvEQAW   \n",
       "1                 Discussion Guide                 1  01t2M000005nonvQAA   \n",
       "2     Discussion Guide, Moderation                 0  01t2M000005noo0QAA   \n",
       "3   DG, Moderation, Topline Report                 1  01t2M000005noo5QAA   \n",
       "4  DG, Moderation, Moderate Report                 1  01t2M000005nooAQAQ   \n",
       "\n",
       "                                 Product Description Product Code  \\\n",
       "0  Price for a single Active Participant Minute--...          NaN   \n",
       "1                              Discussion Guide only          NaN   \n",
       "2                       Discussion Guide, Moderation          NaN   \n",
       "3                     DG, Moderation, Topline Report          NaN   \n",
       "4                    DG, Moderation, Moderate Report          NaN   \n",
       "\n",
       "  Product Type Product Family Sub-Family  \n",
       "0      Revenue        Product   Platform  \n",
       "1          NaN            NaN        NaN  \n",
       "2          NaN            NaN        NaN  \n",
       "3          NaN            NaN        NaN  \n",
       "4          NaN            NaN        NaN  "
      ]
     },
     "execution_count": 24,
     "metadata": {},
     "output_type": "execute_result"
    }
   ],
   "source": [
    "product_df.head()"
   ]
  },
  {
   "cell_type": "markdown",
   "metadata": {},
   "source": [
    "__Project Requests__ <br />\n",
    "DB Name: project_df <br />\n",
    "File Name: project_request__cs.csv <br />\n",
    "435 entries <br />"
   ]
  },
  {
   "cell_type": "code",
   "execution_count": 6,
   "metadata": {},
   "outputs": [
    {
     "data": {
      "text/plain": [
       "Index(['Id', 'OwnerId', 'IsDeleted', 'CreatedDate', 'CreatedById',\n",
       "       'LastModifiedDate', 'LastModifiedById', 'SystemModstamp',\n",
       "       'LastActivityDate', 'Decision__c', 'Opportunity__c', 'Project__c',\n",
       "       'Status__c'],\n",
       "      dtype='object')"
      ]
     },
     "execution_count": 6,
     "metadata": {},
     "output_type": "execute_result"
    }
   ],
   "source": [
    "project_df.columns"
   ]
  },
  {
   "cell_type": "markdown",
   "metadata": {},
   "source": [
    "__Remesh Projects__ <br />\n",
    "DB Name: RProject_df <br />\n",
    "File Name: remesh_project__cs.csv <br />\n",
    "1367 entries <br />"
   ]
  },
  {
   "cell_type": "code",
   "execution_count": 7,
   "metadata": {},
   "outputs": [
    {
     "data": {
      "text/plain": [
       "Index(['Id', 'OwnerId', 'IsDeleted', 'Name', 'CreatedDate', 'CreatedById',\n",
       "       'LastModifiedDate', 'LastModifiedById', 'SystemModstamp',\n",
       "       'LastActivityDate', 'Account__c', 'Contract__c', 'Project_Request__c',\n",
       "       'Project_Title__c', 'Quotas__c', 'Status__c', 'TEMP_Old_Project_Id__c',\n",
       "       'TEMP_Migrate__c'],\n",
       "      dtype='object')"
      ]
     },
     "execution_count": 7,
     "metadata": {},
     "output_type": "execute_result"
    }
   ],
   "source": [
    "RProject_df.columns"
   ]
  },
  {
   "cell_type": "markdown",
   "metadata": {},
   "source": [
    "__Service Request__ <br />\n",
    "DB Name: service_df <br />\n",
    "File Name: service_request__cs.csv <br />\n",
    "1411 entries <br />"
   ]
  },
  {
   "cell_type": "code",
   "execution_count": 23,
   "metadata": {},
   "outputs": [
    {
     "data": {
      "text/html": [
       "<div>\n",
       "<style scoped>\n",
       "    .dataframe tbody tr th:only-of-type {\n",
       "        vertical-align: middle;\n",
       "    }\n",
       "\n",
       "    .dataframe tbody tr th {\n",
       "        vertical-align: top;\n",
       "    }\n",
       "\n",
       "    .dataframe thead th {\n",
       "        text-align: right;\n",
       "    }\n",
       "</style>\n",
       "<table border=\"1\" class=\"dataframe\">\n",
       "  <thead>\n",
       "    <tr style=\"text-align: right;\">\n",
       "      <th></th>\n",
       "      <th>Id</th>\n",
       "      <th>OwnerId</th>\n",
       "      <th>IsDeleted</th>\n",
       "      <th>Name</th>\n",
       "      <th>CreatedDate</th>\n",
       "      <th>CreatedById</th>\n",
       "      <th>LastModifiedDate</th>\n",
       "      <th>LastModifiedById</th>\n",
       "      <th>SystemModstamp</th>\n",
       "      <th>LastActivityDate</th>\n",
       "      <th>Decision__c</th>\n",
       "      <th>Opportunity__c</th>\n",
       "      <th>Product__c</th>\n",
       "      <th>Project_Request__c</th>\n",
       "      <th>Session_Product__c</th>\n",
       "      <th>Session_Request__c</th>\n",
       "      <th>Total_Price_Override__c</th>\n",
       "      <th>Re_calculate_totals_on_session__c</th>\n",
       "      <th>Status__c</th>\n",
       "      <th>Previous_Booked_Amount__c</th>\n",
       "    </tr>\n",
       "  </thead>\n",
       "  <tbody>\n",
       "    <tr>\n",
       "      <th>0</th>\n",
       "      <td>a3R2M000000VUwjUAG</td>\n",
       "      <td>0052M000008zLmjQAE</td>\n",
       "      <td>False</td>\n",
       "      <td>RP-691</td>\n",
       "      <td>2020-08-03T12:22:35.000+0000</td>\n",
       "      <td>00541000007VOCUAA4</td>\n",
       "      <td>2020-08-03T13:49:49.000+0000</td>\n",
       "      <td>0052M000008zLmjQAE</td>\n",
       "      <td>2020-08-03T13:49:49.000+0000</td>\n",
       "      <td>NaN</td>\n",
       "      <td>NaN</td>\n",
       "      <td>0062M00000ktyYUQAY</td>\n",
       "      <td>01t2M000008JOtJQAW</td>\n",
       "      <td>a1J2M00000Tc4kcUAB</td>\n",
       "      <td>NaN</td>\n",
       "      <td>a3V2M000000UJzAUAW</td>\n",
       "      <td>NaN</td>\n",
       "      <td>False</td>\n",
       "      <td>NaN</td>\n",
       "      <td>NaN</td>\n",
       "    </tr>\n",
       "    <tr>\n",
       "      <th>1</th>\n",
       "      <td>a3R2M000000VUwkUAG</td>\n",
       "      <td>0052M000008zLmjQAE</td>\n",
       "      <td>False</td>\n",
       "      <td>RP-692</td>\n",
       "      <td>2020-08-03T12:22:35.000+0000</td>\n",
       "      <td>00541000007VOCUAA4</td>\n",
       "      <td>2020-08-03T13:49:49.000+0000</td>\n",
       "      <td>0052M000008zLmjQAE</td>\n",
       "      <td>2020-08-03T13:49:49.000+0000</td>\n",
       "      <td>NaN</td>\n",
       "      <td>NaN</td>\n",
       "      <td>0062M00000ktyYUQAY</td>\n",
       "      <td>01t2M000008JOtKQAW</td>\n",
       "      <td>a1J2M00000Tc4kcUAB</td>\n",
       "      <td>NaN</td>\n",
       "      <td>a3V2M000000UJzAUAW</td>\n",
       "      <td>NaN</td>\n",
       "      <td>False</td>\n",
       "      <td>NaN</td>\n",
       "      <td>NaN</td>\n",
       "    </tr>\n",
       "    <tr>\n",
       "      <th>2</th>\n",
       "      <td>a3R2M000000VUwtUAG</td>\n",
       "      <td>0052M000008Pn2cQAC</td>\n",
       "      <td>False</td>\n",
       "      <td>RP-693</td>\n",
       "      <td>2020-08-03T14:46:45.000+0000</td>\n",
       "      <td>00541000007VOCUAA4</td>\n",
       "      <td>2020-08-03T15:33:26.000+0000</td>\n",
       "      <td>0052M000008Pn2cQAC</td>\n",
       "      <td>2020-08-03T15:33:26.000+0000</td>\n",
       "      <td>NaN</td>\n",
       "      <td>NaN</td>\n",
       "      <td>0062M00000ktyz2QAA</td>\n",
       "      <td>01t2M000008JOtJQAW</td>\n",
       "      <td>a1J2M00000Tc4sWUAR</td>\n",
       "      <td>NaN</td>\n",
       "      <td>a3V2M000000UJzjUAG</td>\n",
       "      <td>NaN</td>\n",
       "      <td>False</td>\n",
       "      <td>NaN</td>\n",
       "      <td>NaN</td>\n",
       "    </tr>\n",
       "    <tr>\n",
       "      <th>3</th>\n",
       "      <td>a3R2M000000VUwuUAG</td>\n",
       "      <td>0052M000008Pn2cQAC</td>\n",
       "      <td>False</td>\n",
       "      <td>RP-694</td>\n",
       "      <td>2020-08-03T14:46:45.000+0000</td>\n",
       "      <td>00541000007VOCUAA4</td>\n",
       "      <td>2020-08-03T15:33:26.000+0000</td>\n",
       "      <td>0052M000008Pn2cQAC</td>\n",
       "      <td>2020-08-03T15:33:26.000+0000</td>\n",
       "      <td>NaN</td>\n",
       "      <td>NaN</td>\n",
       "      <td>0062M00000ktyz2QAA</td>\n",
       "      <td>01t2M000008JOtKQAW</td>\n",
       "      <td>a1J2M00000Tc4sWUAR</td>\n",
       "      <td>NaN</td>\n",
       "      <td>a3V2M000000UJzjUAG</td>\n",
       "      <td>NaN</td>\n",
       "      <td>False</td>\n",
       "      <td>NaN</td>\n",
       "      <td>NaN</td>\n",
       "    </tr>\n",
       "    <tr>\n",
       "      <th>4</th>\n",
       "      <td>a3R2M000000VUwyUAG</td>\n",
       "      <td>0052M000008yKCRQA2</td>\n",
       "      <td>False</td>\n",
       "      <td>RP-695</td>\n",
       "      <td>2020-08-03T16:37:30.000+0000</td>\n",
       "      <td>00541000003qyb7AAA</td>\n",
       "      <td>2020-08-03T19:02:10.000+0000</td>\n",
       "      <td>0052M000008yKCRQA2</td>\n",
       "      <td>2020-08-03T19:02:10.000+0000</td>\n",
       "      <td>NaN</td>\n",
       "      <td>NaN</td>\n",
       "      <td>0062M00000ktzHfQAI</td>\n",
       "      <td>01t2M000008JOtKQAW</td>\n",
       "      <td>a1J2M00000Tc4vyUAB</td>\n",
       "      <td>NaN</td>\n",
       "      <td>a3V2M000000UK0SUAW</td>\n",
       "      <td>NaN</td>\n",
       "      <td>False</td>\n",
       "      <td>NaN</td>\n",
       "      <td>NaN</td>\n",
       "    </tr>\n",
       "  </tbody>\n",
       "</table>\n",
       "</div>"
      ],
      "text/plain": [
       "                   Id             OwnerId  IsDeleted    Name  \\\n",
       "0  a3R2M000000VUwjUAG  0052M000008zLmjQAE      False  RP-691   \n",
       "1  a3R2M000000VUwkUAG  0052M000008zLmjQAE      False  RP-692   \n",
       "2  a3R2M000000VUwtUAG  0052M000008Pn2cQAC      False  RP-693   \n",
       "3  a3R2M000000VUwuUAG  0052M000008Pn2cQAC      False  RP-694   \n",
       "4  a3R2M000000VUwyUAG  0052M000008yKCRQA2      False  RP-695   \n",
       "\n",
       "                    CreatedDate         CreatedById  \\\n",
       "0  2020-08-03T12:22:35.000+0000  00541000007VOCUAA4   \n",
       "1  2020-08-03T12:22:35.000+0000  00541000007VOCUAA4   \n",
       "2  2020-08-03T14:46:45.000+0000  00541000007VOCUAA4   \n",
       "3  2020-08-03T14:46:45.000+0000  00541000007VOCUAA4   \n",
       "4  2020-08-03T16:37:30.000+0000  00541000003qyb7AAA   \n",
       "\n",
       "               LastModifiedDate    LastModifiedById  \\\n",
       "0  2020-08-03T13:49:49.000+0000  0052M000008zLmjQAE   \n",
       "1  2020-08-03T13:49:49.000+0000  0052M000008zLmjQAE   \n",
       "2  2020-08-03T15:33:26.000+0000  0052M000008Pn2cQAC   \n",
       "3  2020-08-03T15:33:26.000+0000  0052M000008Pn2cQAC   \n",
       "4  2020-08-03T19:02:10.000+0000  0052M000008yKCRQA2   \n",
       "\n",
       "                 SystemModstamp  LastActivityDate Decision__c  \\\n",
       "0  2020-08-03T13:49:49.000+0000               NaN         NaN   \n",
       "1  2020-08-03T13:49:49.000+0000               NaN         NaN   \n",
       "2  2020-08-03T15:33:26.000+0000               NaN         NaN   \n",
       "3  2020-08-03T15:33:26.000+0000               NaN         NaN   \n",
       "4  2020-08-03T19:02:10.000+0000               NaN         NaN   \n",
       "\n",
       "       Opportunity__c          Product__c  Project_Request__c  \\\n",
       "0  0062M00000ktyYUQAY  01t2M000008JOtJQAW  a1J2M00000Tc4kcUAB   \n",
       "1  0062M00000ktyYUQAY  01t2M000008JOtKQAW  a1J2M00000Tc4kcUAB   \n",
       "2  0062M00000ktyz2QAA  01t2M000008JOtJQAW  a1J2M00000Tc4sWUAR   \n",
       "3  0062M00000ktyz2QAA  01t2M000008JOtKQAW  a1J2M00000Tc4sWUAR   \n",
       "4  0062M00000ktzHfQAI  01t2M000008JOtKQAW  a1J2M00000Tc4vyUAB   \n",
       "\n",
       "  Session_Product__c  Session_Request__c  Total_Price_Override__c  \\\n",
       "0                NaN  a3V2M000000UJzAUAW                      NaN   \n",
       "1                NaN  a3V2M000000UJzAUAW                      NaN   \n",
       "2                NaN  a3V2M000000UJzjUAG                      NaN   \n",
       "3                NaN  a3V2M000000UJzjUAG                      NaN   \n",
       "4                NaN  a3V2M000000UK0SUAW                      NaN   \n",
       "\n",
       "   Re_calculate_totals_on_session__c Status__c  Previous_Booked_Amount__c  \n",
       "0                              False       NaN                        NaN  \n",
       "1                              False       NaN                        NaN  \n",
       "2                              False       NaN                        NaN  \n",
       "3                              False       NaN                        NaN  \n",
       "4                              False       NaN                        NaN  "
      ]
     },
     "execution_count": 23,
     "metadata": {},
     "output_type": "execute_result"
    }
   ],
   "source": [
    "service_df.head()"
   ]
  },
  {
   "cell_type": "markdown",
   "metadata": {},
   "source": [
    "__Session Request__ <br />\n",
    "DB Name: SessionRequest_df <br />\n",
    "File Name: Session Request Table.csv <br />\n",
    "859 entries <br />"
   ]
  },
  {
   "cell_type": "code",
   "execution_count": 9,
   "metadata": {},
   "outputs": [
    {
     "data": {
      "text/plain": [
       "Index(['Id', 'IsDeleted', 'Name', 'CreatedDate', 'CreatedById',\n",
       "       'LastModifiedDate', 'LastModifiedById', 'SystemModstamp',\n",
       "       'LastActivityDate', 'Project_Request__c', 'Confirmed_Start_Time__c',\n",
       "       'Country__c', 'Decision__c', 'Estimated_Date_Time__c', 'N__c',\n",
       "       'Opportunity__c', 'Platform_Type__c', 'Selected_Pricing_Option__c',\n",
       "       'Session_Length_Minutes__c', 'Session__c', 'Total_Price__c',\n",
       "       'Total_Cost__c'],\n",
       "      dtype='object')"
      ]
     },
     "execution_count": 9,
     "metadata": {},
     "output_type": "execute_result"
    }
   ],
   "source": [
    "SessionRequest_df.columns"
   ]
  },
  {
   "cell_type": "markdown",
   "metadata": {},
   "source": [
    "__Sessions__ <br />\n",
    "DB Name: session_cs_df <br />\n",
    "File Name: session__cs.csv <br />\n",
    "592 entries <br />"
   ]
  },
  {
   "cell_type": "code",
   "execution_count": 10,
   "metadata": {},
   "outputs": [
    {
     "data": {
      "text/plain": [
       "Index(['Id', 'OwnerId', 'IsDeleted', 'Name', 'CreatedDate', 'CreatedById',\n",
       "       'LastModifiedDate', 'LastModifiedById', 'SystemModstamp', 'Start Month',\n",
       "       'Confirmed_Start_Time__c', 'Conversation__c', 'N__c', 'Notes__c',\n",
       "       'Platform__c', 'Project__c', 'Remesh_Conversation_Id__c',\n",
       "       'Session_Details__c', 'Session_Length_Minutes__c', 'Session_Request__c',\n",
       "       'Session_Title__c', 'Status__c', 'Use_Case_Bucket__c',\n",
       "       'Use_Case_Detail__c', 'Non_Traditional_Vendor_Used__c',\n",
       "       'Traditional_Vendor_Used__c', 'Session_Price__c', 'Session_Cost__c',\n",
       "       'Cancellation_Date__c', 'Country__c'],\n",
       "      dtype='object')"
      ]
     },
     "execution_count": 10,
     "metadata": {},
     "output_type": "execute_result"
    }
   ],
   "source": [
    "session_cs_df.columns"
   ]
  },
  {
   "cell_type": "markdown",
   "metadata": {},
   "source": [
    "__Session Products__ <br />\n",
    "DB Name: SessionProduct_df <br />\n",
    "File Name: session_product__cs.csv <br />\n",
    "3145 entries <br />"
   ]
  },
  {
   "cell_type": "code",
   "execution_count": 12,
   "metadata": {},
   "outputs": [
    {
     "data": {
      "text/plain": [
       "Index(['Id', 'OwnerId', 'IsDeleted', 'Name', 'CreatedDate', 'CreatedById',\n",
       "       'LastModifiedDate', 'LastModifiedById', 'SystemModstamp',\n",
       "       'LastActivityDate', 'Notes__c', 'Order_Product__c', 'Product__c',\n",
       "       'Quantity__c', 'Remesh_Project__c', 'Service_Request__c', 'Session__c',\n",
       "       'Total_Price_Override__c', 'TEMP_Project_Product__c', 'Status__c'],\n",
       "      dtype='object')"
      ]
     },
     "execution_count": 12,
     "metadata": {},
     "output_type": "execute_result"
    }
   ],
   "source": [
    "SessionProduct_df.columns"
   ]
  },
  {
   "cell_type": "code",
   "execution_count": null,
   "metadata": {},
   "outputs": [],
   "source": []
  },
  {
   "cell_type": "code",
   "execution_count": null,
   "metadata": {},
   "outputs": [],
   "source": []
  },
  {
   "cell_type": "code",
   "execution_count": null,
   "metadata": {},
   "outputs": [],
   "source": []
  },
  {
   "cell_type": "code",
   "execution_count": null,
   "metadata": {},
   "outputs": [],
   "source": []
  },
  {
   "cell_type": "code",
   "execution_count": null,
   "metadata": {},
   "outputs": [],
   "source": []
  },
  {
   "cell_type": "code",
   "execution_count": null,
   "metadata": {},
   "outputs": [],
   "source": []
  },
  {
   "cell_type": "code",
   "execution_count": null,
   "metadata": {},
   "outputs": [],
   "source": []
  },
  {
   "cell_type": "code",
   "execution_count": null,
   "metadata": {},
   "outputs": [],
   "source": []
  },
  {
   "cell_type": "code",
   "execution_count": null,
   "metadata": {},
   "outputs": [],
   "source": []
  },
  {
   "cell_type": "code",
   "execution_count": null,
   "metadata": {},
   "outputs": [],
   "source": []
  },
  {
   "cell_type": "code",
   "execution_count": null,
   "metadata": {},
   "outputs": [],
   "source": []
  },
  {
   "cell_type": "code",
   "execution_count": null,
   "metadata": {},
   "outputs": [],
   "source": []
  },
  {
   "cell_type": "code",
   "execution_count": null,
   "metadata": {},
   "outputs": [],
   "source": []
  },
  {
   "cell_type": "code",
   "execution_count": null,
   "metadata": {},
   "outputs": [],
   "source": [
    "Stop"
   ]
  },
  {
   "cell_type": "markdown",
   "metadata": {},
   "source": [
    "First create a new BD"
   ]
  },
  {
   "cell_type": "code",
   "execution_count": null,
   "metadata": {},
   "outputs": [],
   "source": [
    "# db_user = os.getenv('db_user')\n",
    "# db_passwd = os.getenv('db_passwd')"
   ]
  },
  {
   "cell_type": "code",
   "execution_count": null,
   "metadata": {},
   "outputs": [],
   "source": [
    "mydb = mysql.connector.connect(host='localhost',\\\n",
    "                              user=db_user,\\\n",
    "                              passwd=db_passwd\\\n",
    "#                               ,database='BIntelligenceDB'\\\n",
    "                              )\n",
    "                               \n",
    "print(mydb)"
   ]
  },
  {
   "cell_type": "code",
   "execution_count": null,
   "metadata": {},
   "outputs": [],
   "source": [
    "# Create a database\n",
    "mycursor = mydb.cursor()\n",
    "\n",
    "# This line is commented out because it only needs to be run once\n",
    "mycursor.execute(\"CREATE DATABASE BIntelligenceDB\")"
   ]
  },
  {
   "cell_type": "code",
   "execution_count": null,
   "metadata": {},
   "outputs": [],
   "source": [
    "mycursor.execute(\"SHOW DATABASES\")\n",
    "\n",
    "for db in mycursor:\n",
    "    print(db)"
   ]
  },
  {
   "cell_type": "code",
   "execution_count": null,
   "metadata": {},
   "outputs": [],
   "source": [
    "# # Create a table (do not erase/for refrerence)\n",
    "\n",
    "# mycursor.execute(\"CREATE TABLE county_jails\\\n",
    "#                  (reporting_jurisdictions VARCHAR(100),\\\n",
    "#                  county_name VARCHAR(100),\\\n",
    "#                  state_name VARCHAR(100),\\\n",
    "#                  Date VARCHAR(100),\\\n",
    "#                  jail_population INTEGER(255))\")\n",
    "\n",
    "# mycursor.execute(\"SHOW TABLES\")\n",
    "\n",
    "# for tb in mycursor:\n",
    "#     print(tb)"
   ]
  },
  {
   "cell_type": "code",
   "execution_count": null,
   "metadata": {},
   "outputs": [],
   "source": [
    "# sqlFormula = \"INSERT INTO county_jails (Date, reporting_jurisdictions, county_name, \\\n",
    "# state_name, jail_population) VALUES (%s, %s, %s, %s, %s)\""
   ]
  },
  {
   "cell_type": "markdown",
   "metadata": {},
   "source": [
    "## EDA"
   ]
  },
  {
   "cell_type": "code",
   "execution_count": 41,
   "metadata": {},
   "outputs": [
    {
     "data": {
      "text/html": [
       "<div>\n",
       "<style scoped>\n",
       "    .dataframe tbody tr th:only-of-type {\n",
       "        vertical-align: middle;\n",
       "    }\n",
       "\n",
       "    .dataframe tbody tr th {\n",
       "        vertical-align: top;\n",
       "    }\n",
       "\n",
       "    .dataframe thead th {\n",
       "        text-align: right;\n",
       "    }\n",
       "</style>\n",
       "<table border=\"1\" class=\"dataframe\">\n",
       "  <thead>\n",
       "    <tr style=\"text-align: right;\">\n",
       "      <th></th>\n",
       "      <th>Id</th>\n",
       "      <th>AccountId</th>\n",
       "      <th>Pricebook2Id</th>\n",
       "      <th>OwnerExpirationNotice</th>\n",
       "      <th>StartDate</th>\n",
       "      <th>EndDate</th>\n",
       "      <th>BillingStreet</th>\n",
       "      <th>BillingCity</th>\n",
       "      <th>BillingState</th>\n",
       "      <th>BillingPostalCode</th>\n",
       "      <th>...</th>\n",
       "      <th>Invoiced_In_Arrears_Balance_Amount__c</th>\n",
       "      <th>Originating_Opportunity__c</th>\n",
       "      <th>PO_Number__c</th>\n",
       "      <th>Payment_Frequency__c</th>\n",
       "      <th>Payment_Terms__c</th>\n",
       "      <th>Customer_Success_Rep__c</th>\n",
       "      <th>Billing_Contact__c</th>\n",
       "      <th>Logo__c</th>\n",
       "      <th>First_Conversation_Date__c</th>\n",
       "      <th>Last_Conversation_Date__c</th>\n",
       "    </tr>\n",
       "  </thead>\n",
       "  <tbody>\n",
       "    <tr>\n",
       "      <th>0</th>\n",
       "      <td>8002M000000Vrn9QAC</td>\n",
       "      <td>0014100000byjMrAAI</td>\n",
       "      <td>01s41000006ojbeAAA</td>\n",
       "      <td>NaN</td>\n",
       "      <td>2020-08-04</td>\n",
       "      <td>2020-10-03</td>\n",
       "      <td>NaN</td>\n",
       "      <td>NaN</td>\n",
       "      <td>NaN</td>\n",
       "      <td>NaN</td>\n",
       "      <td>...</td>\n",
       "      <td>NaN</td>\n",
       "      <td>0062M00000ku5usQAA</td>\n",
       "      <td>NaN</td>\n",
       "      <td>Custom / In Arrears</td>\n",
       "      <td>Net 45</td>\n",
       "      <td>0052M000008PvAJQA0</td>\n",
       "      <td>0032M00002ftK1SQAU</td>\n",
       "      <td>a0Y2M00000R48KgUAJ</td>\n",
       "      <td>2020-08-06</td>\n",
       "      <td>2020-08-18</td>\n",
       "    </tr>\n",
       "    <tr>\n",
       "      <th>1</th>\n",
       "      <td>8002M000000VrptQAC</td>\n",
       "      <td>0014100000bD20nAAC</td>\n",
       "      <td>01s41000006ojbeAAA</td>\n",
       "      <td>NaN</td>\n",
       "      <td>2020-08-06</td>\n",
       "      <td>2020-11-05</td>\n",
       "      <td>NaN</td>\n",
       "      <td>NaN</td>\n",
       "      <td>NaN</td>\n",
       "      <td>NaN</td>\n",
       "      <td>...</td>\n",
       "      <td>NaN</td>\n",
       "      <td>0062M00000jwUoPQAU</td>\n",
       "      <td>NaN</td>\n",
       "      <td>100% Upfront</td>\n",
       "      <td>Net 60</td>\n",
       "      <td>NaN</td>\n",
       "      <td>0034100002DqUdlAAF</td>\n",
       "      <td>a0Y2M00000R48G4UAJ</td>\n",
       "      <td>2020-08-14</td>\n",
       "      <td>2020-08-14</td>\n",
       "    </tr>\n",
       "    <tr>\n",
       "      <th>2</th>\n",
       "      <td>8002M000000VrqxQAC</td>\n",
       "      <td>0014100000GF56vAAD</td>\n",
       "      <td>01s41000006ojbeAAA</td>\n",
       "      <td>NaN</td>\n",
       "      <td>2020-08-05</td>\n",
       "      <td>2020-10-04</td>\n",
       "      <td>NaN</td>\n",
       "      <td>NaN</td>\n",
       "      <td>NaN</td>\n",
       "      <td>NaN</td>\n",
       "      <td>...</td>\n",
       "      <td>NaN</td>\n",
       "      <td>0062M00000ku2gLQAQ</td>\n",
       "      <td>NaN</td>\n",
       "      <td>Custom / In Arrears</td>\n",
       "      <td>Net 45</td>\n",
       "      <td>005410000060ULBAA2</td>\n",
       "      <td>0032M00002fDLn2QAG</td>\n",
       "      <td>a0Y2M00000R48KxUAJ</td>\n",
       "      <td>NaN</td>\n",
       "      <td>NaN</td>\n",
       "    </tr>\n",
       "    <tr>\n",
       "      <th>3</th>\n",
       "      <td>8002M000000VruGQAS</td>\n",
       "      <td>0014100000GF56vAAD</td>\n",
       "      <td>01s41000006ojbeAAA</td>\n",
       "      <td>NaN</td>\n",
       "      <td>2020-08-07</td>\n",
       "      <td>2020-10-06</td>\n",
       "      <td>NaN</td>\n",
       "      <td>NaN</td>\n",
       "      <td>NaN</td>\n",
       "      <td>NaN</td>\n",
       "      <td>...</td>\n",
       "      <td>NaN</td>\n",
       "      <td>0062M00000ku649QAA</td>\n",
       "      <td>NaN</td>\n",
       "      <td>Custom / In Arrears</td>\n",
       "      <td>Net 30</td>\n",
       "      <td>005410000060ULBAA2</td>\n",
       "      <td>0032M00002fDLn2QAG</td>\n",
       "      <td>a0Y2M00000R48KxUAJ</td>\n",
       "      <td>NaN</td>\n",
       "      <td>NaN</td>\n",
       "    </tr>\n",
       "    <tr>\n",
       "      <th>4</th>\n",
       "      <td>8002M000000VsWkQAK</td>\n",
       "      <td>0012M00002KRHt4QAH</td>\n",
       "      <td>01s41000006ojbeAAA</td>\n",
       "      <td>NaN</td>\n",
       "      <td>2020-08-14</td>\n",
       "      <td>2021-08-13</td>\n",
       "      <td>NaN</td>\n",
       "      <td>NaN</td>\n",
       "      <td>NaN</td>\n",
       "      <td>NaN</td>\n",
       "      <td>...</td>\n",
       "      <td>NaN</td>\n",
       "      <td>0062M00000jOGdNQAW</td>\n",
       "      <td>NaN</td>\n",
       "      <td>100% Upfront</td>\n",
       "      <td>Net 30</td>\n",
       "      <td>0052M000008zHZkQAM</td>\n",
       "      <td>0032M00002wbP4uQAE</td>\n",
       "      <td>a0Y2M00000R44TqUAJ</td>\n",
       "      <td>2020-09-02</td>\n",
       "      <td>2020-09-16</td>\n",
       "    </tr>\n",
       "  </tbody>\n",
       "</table>\n",
       "<p>5 rows × 61 columns</p>\n",
       "</div>"
      ],
      "text/plain": [
       "                   Id           AccountId        Pricebook2Id  \\\n",
       "0  8002M000000Vrn9QAC  0014100000byjMrAAI  01s41000006ojbeAAA   \n",
       "1  8002M000000VrptQAC  0014100000bD20nAAC  01s41000006ojbeAAA   \n",
       "2  8002M000000VrqxQAC  0014100000GF56vAAD  01s41000006ojbeAAA   \n",
       "3  8002M000000VruGQAS  0014100000GF56vAAD  01s41000006ojbeAAA   \n",
       "4  8002M000000VsWkQAK  0012M00002KRHt4QAH  01s41000006ojbeAAA   \n",
       "\n",
       "   OwnerExpirationNotice  StartDate     EndDate  BillingStreet  BillingCity  \\\n",
       "0                    NaN 2020-08-04  2020-10-03            NaN          NaN   \n",
       "1                    NaN 2020-08-06  2020-11-05            NaN          NaN   \n",
       "2                    NaN 2020-08-05  2020-10-04            NaN          NaN   \n",
       "3                    NaN 2020-08-07  2020-10-06            NaN          NaN   \n",
       "4                    NaN 2020-08-14  2021-08-13            NaN          NaN   \n",
       "\n",
       "   BillingState  BillingPostalCode  ... Invoiced_In_Arrears_Balance_Amount__c  \\\n",
       "0           NaN                NaN  ...                                   NaN   \n",
       "1           NaN                NaN  ...                                   NaN   \n",
       "2           NaN                NaN  ...                                   NaN   \n",
       "3           NaN                NaN  ...                                   NaN   \n",
       "4           NaN                NaN  ...                                   NaN   \n",
       "\n",
       "   Originating_Opportunity__c PO_Number__c  Payment_Frequency__c  \\\n",
       "0          0062M00000ku5usQAA          NaN   Custom / In Arrears   \n",
       "1          0062M00000jwUoPQAU          NaN          100% Upfront   \n",
       "2          0062M00000ku2gLQAQ          NaN   Custom / In Arrears   \n",
       "3          0062M00000ku649QAA          NaN   Custom / In Arrears   \n",
       "4          0062M00000jOGdNQAW          NaN          100% Upfront   \n",
       "\n",
       "   Payment_Terms__c  Customer_Success_Rep__c  Billing_Contact__c  \\\n",
       "0            Net 45       0052M000008PvAJQA0  0032M00002ftK1SQAU   \n",
       "1            Net 60                      NaN  0034100002DqUdlAAF   \n",
       "2            Net 45       005410000060ULBAA2  0032M00002fDLn2QAG   \n",
       "3            Net 30       005410000060ULBAA2  0032M00002fDLn2QAG   \n",
       "4            Net 30       0052M000008zHZkQAM  0032M00002wbP4uQAE   \n",
       "\n",
       "              Logo__c  First_Conversation_Date__c  Last_Conversation_Date__c  \n",
       "0  a0Y2M00000R48KgUAJ                  2020-08-06                 2020-08-18  \n",
       "1  a0Y2M00000R48G4UAJ                  2020-08-14                 2020-08-14  \n",
       "2  a0Y2M00000R48KxUAJ                         NaN                        NaN  \n",
       "3  a0Y2M00000R48KxUAJ                         NaN                        NaN  \n",
       "4  a0Y2M00000R44TqUAJ                  2020-09-02                 2020-09-16  \n",
       "\n",
       "[5 rows x 61 columns]"
      ]
     },
     "execution_count": 41,
     "metadata": {},
     "output_type": "execute_result"
    }
   ],
   "source": [
    "contracts_df.head()"
   ]
  },
  {
   "cell_type": "code",
   "execution_count": 59,
   "metadata": {},
   "outputs": [
    {
     "data": {
      "image/png": "[encoded data removed]",
      "text/plain": [
       "<Figure size 720x360 with 1 Axes>"
      ]
     },
     "metadata": {
      "needs_background": "light"
     },
     "output_type": "display_data"
    }
   ],
   "source": [
    "contracts_df.groupby(['StartDate'])['Id'].count().plot(kind='line',figsize = (10,5))\n",
    "plt.title(\"Contract ID Count\", size= 18)\n",
    "plt.show()"
   ]
  },
  {
   "cell_type": "code",
   "execution_count": 53,
   "metadata": {},
   "outputs": [
    {
     "data": {
      "text/plain": [
       "Text(0, 0.5, 'ID Count')"
      ]
     },
     "execution_count": 53,
     "metadata": {},
     "output_type": "execute_result"
    },
    {
     "data": {
      "image/png": "[encoded data removed]",
      "text/plain": [
       "<Figure size 576x360 with 1 Axes>"
      ]
     },
     "metadata": {
      "needs_background": "light"
     },
     "output_type": "display_data"
    }
   ],
   "source": [
    "(contracts_df.groupby([contracts_df['StartDate'].dt.quarter,\\\n",
    "                       contracts_df['StartDate'].dt.year])\\\n",
    " ['Id'].count()).unstack().plot(kind='line', figsize=(8,5))\n",
    "\n",
    "plt.legend(loc='center left', bbox_to_anchor=(1.1, .5), fontsize='x-small', frameon=False)\n",
    "plt.suptitle('ID Contract Counts', fontsize=16)\n",
    "plt.tick_params(labelsize = 12)\n",
    "plt.xlabel('Quarter', fontsize=12)\n",
    "plt.ylabel('ID Count', fontsize=12)"
   ]
  },
  {
   "cell_type": "code",
   "execution_count": 56,
   "metadata": {},
   "outputs": [
    {
     "data": {
      "text/plain": [
       "<matplotlib.axes._subplots.AxesSubplot at 0x7fb4c8e73850>"
      ]
     },
     "execution_count": 56,
     "metadata": {},
     "output_type": "execute_result"
    },
    {
     "data": {
      "image/png": "[encoded data removed]",
      "text/plain": [
       "<Figure size 432x288 with 1 Axes>"
      ]
     },
     "metadata": {
      "needs_background": "light"
     },
     "output_type": "display_data"
    }
   ],
   "source": [
    "sns.heatmap(opps_df.isnull(), cbar=False)"
   ]
  },
  {
   "cell_type": "code",
   "execution_count": null,
   "metadata": {},
   "outputs": [],
   "source": []
  },
  {
   "cell_type": "code",
   "execution_count": null,
   "metadata": {},
   "outputs": [],
   "source": []
  },
  {
   "cell_type": "code",
   "execution_count": null,
   "metadata": {},
   "outputs": [],
   "source": [
    "corrmat = prec_df[['Fine_Amount','Amount_Due',\\\n",
    "              'Bronx', 'Brooklyn', 'Manhattan', 'Queens'\\\n",
    "             ]].corr()\n",
    "fig,ax= plt.subplots()\n",
    "fig.set_size_inches(20,10)\n",
    "sns.heatmap(corrmat,square=True,annot=True)"
   ]
  },
  {
   "cell_type": "code",
   "execution_count": null,
   "metadata": {},
   "outputs": [],
   "source": []
  },
  {
   "cell_type": "code",
   "execution_count": null,
   "metadata": {},
   "outputs": [],
   "source": []
  },
  {
   "cell_type": "code",
   "execution_count": null,
   "metadata": {},
   "outputs": [],
   "source": []
  },
  {
   "cell_type": "code",
   "execution_count": null,
   "metadata": {},
   "outputs": [],
   "source": []
  },
  {
   "cell_type": "code",
   "execution_count": null,
   "metadata": {},
   "outputs": [],
   "source": []
  },
  {
   "cell_type": "code",
   "execution_count": null,
   "metadata": {},
   "outputs": [],
   "source": []
  },
  {
   "cell_type": "code",
   "execution_count": null,
   "metadata": {},
   "outputs": [],
   "source": []
  },
  {
   "cell_type": "code",
   "execution_count": null,
   "metadata": {},
   "outputs": [],
   "source": []
  }
 ],
 "metadata": {
  "kernelspec": {
   "display_name": "Python 3",
   "language": "python",
   "name": "python3"
  },
  "language_info": {
   "codemirror_mode": {
    "name": "ipython",
    "version": 3
   },
   "file_extension": ".py",
   "mimetype": "text/x-python",
   "name": "python",
   "nbconvert_exporter": "python",
   "pygments_lexer": "ipython3",
   "version": "3.7.7"
  },
  "toc": {
   "base_numbering": 1,
   "nav_menu": {},
   "number_sections": true,
   "sideBar": true,
   "skip_h1_title": false,
   "title_cell": "Table of Contents",
   "title_sidebar": "Contents",
   "toc_cell": false,
   "toc_position": {},
   "toc_section_display": true,
   "toc_window_display": true
  }
 },
 "nbformat": 4,
 "nbformat_minor": 4
}
