{
 "cells": [
  {
   "cell_type": "markdown",
   "metadata": {},
   "source": [
    "# Binterview"
   ]
  },
  {
   "cell_type": "markdown",
   "metadata": {},
   "source": [
    "Objective #1\n",
    "- Tell us the conversation rate of Pilot Opportunities to Annual Opportunities\n",
    "  - On the opportunity object, there is a unique id that connects pilots opportunities to annuals\n",
    "  - Annuals are defined as Type = Bulk\n",
    "  - Pilots and Annuals are related upon the pilot being won\n",
    "- What is the likelihood that an annual will be won when creating a pilot?\n",
    "- What is the likelihood that an annual will be won when winning a pilot?\n",
    "\n",
    "Objective #2\n",
    "- Of all the sessions requested how many are sold?\n",
    "  - All Opportunities have a Session Request and all Session Requests that are Accepted are associated with the Session Record\n",
    "- What requested Research Product is most likely to be sold? Explain how you came to that conclusion.\n",
    "  - Sessions have Service Requests Records related to them, these records are the Products that are being requested by the sales team and relate back to the Product in our Product Catalog.\n",
    "\n",
    "Objective #2\n",
    "- What is the average Booking value of Opportunities with sessions sold since July?\n",
    "\n",
    "CSV List\n",
    "1. contracts.csv\n",
    "2. Opps Table (July to present).csv\n",
    "3. Product Table.csv\n",
    "4. project_request__cs.csv\n",
    "5. remesh_project__cs.csv\n",
    "6. service_request__cs.csv\n",
    "7. Session Request Table.csv\n",
    "8. session__cs.csv\n",
    "9. session_product__cs.csv"
   ]
  },
  {
   "cell_type": "code",
   "execution_count": 1,
   "metadata": {},
   "outputs": [],
   "source": [
    "# Import libraries\n",
    "import pandas as pd\n",
    "import numpy as np\n",
    "import seaborn as sns\n",
    "import matplotlib.pyplot as plt\n",
    "%matplotlib inline\n",
    "\n",
    "#SQL\n",
    "import mysql.connector\n",
    "import os"
   ]
  },
  {
   "cell_type": "code",
   "execution_count": 2,
   "metadata": {},
   "outputs": [],
   "source": [
    "# Import Salesforce data\n",
    "contracts_df = pd.read_csv('contracts.csv')\n",
    "opps_df = pd.read_csv('Opps Table (July to present).csv')\n",
    "product_df = pd.read_csv('Product Table.csv')\n",
    "project_df = pd.read_csv('project_request__cs.csv')\n",
    "RProject_df = pd.read_csv('remesh_project__cs.csv')\n",
    "service_df = pd.read_csv('service_request__cs.csv')\n",
    "Srequest_df = pd.read_csv('Session Request Table.csv')\n",
    "session_cs_df = pd.read_csv('session__cs.csv')\n",
    "Sproduct_df = pd.read_csv('session_product__cs.csv')"
   ]
  },
  {
   "cell_type": "code",
   "execution_count": null,
   "metadata": {},
   "outputs": [],
   "source": [
    "contracts_df"
   ]
  },
  {
   "cell_type": "code",
   "execution_count": null,
   "metadata": {},
   "outputs": [],
   "source": []
  },
  {
   "cell_type": "code",
   "execution_count": null,
   "metadata": {},
   "outputs": [],
   "source": []
  },
  {
   "cell_type": "code",
   "execution_count": null,
   "metadata": {},
   "outputs": [],
   "source": []
  },
  {
   "cell_type": "code",
   "execution_count": null,
   "metadata": {},
   "outputs": [],
   "source": []
  },
  {
   "cell_type": "code",
   "execution_count": null,
   "metadata": {},
   "outputs": [],
   "source": []
  },
  {
   "cell_type": "code",
   "execution_count": null,
   "metadata": {},
   "outputs": [],
   "source": []
  },
  {
   "cell_type": "code",
   "execution_count": null,
   "metadata": {},
   "outputs": [],
   "source": []
  },
  {
   "cell_type": "code",
   "execution_count": null,
   "metadata": {},
   "outputs": [],
   "source": []
  },
  {
   "cell_type": "code",
   "execution_count": null,
   "metadata": {},
   "outputs": [],
   "source": []
  },
  {
   "cell_type": "code",
   "execution_count": null,
   "metadata": {},
   "outputs": [],
   "source": []
  },
  {
   "cell_type": "code",
   "execution_count": null,
   "metadata": {},
   "outputs": [],
   "source": []
  },
  {
   "cell_type": "code",
   "execution_count": null,
   "metadata": {},
   "outputs": [],
   "source": []
  },
  {
   "cell_type": "code",
   "execution_count": null,
   "metadata": {},
   "outputs": [],
   "source": []
  },
  {
   "cell_type": "code",
   "execution_count": null,
   "metadata": {},
   "outputs": [],
   "source": []
  },
  {
   "cell_type": "code",
   "execution_count": null,
   "metadata": {},
   "outputs": [],
   "source": []
  },
  {
   "cell_type": "markdown",
   "metadata": {},
   "source": [
    "First create a new BD"
   ]
  },
  {
   "cell_type": "code",
   "execution_count": 3,
   "metadata": {},
   "outputs": [],
   "source": [
    "# db_user = os.getenv('db_user')\n",
    "# db_passwd = os.getenv('db_passwd')"
   ]
  },
  {
   "cell_type": "code",
   "execution_count": 7,
   "metadata": {},
   "outputs": [
    {
     "name": "stdout",
     "output_type": "stream",
     "text": [
      "<mysql.connector.connection.MySQLConnection object at 0x7febac120410>\n"
     ]
    }
   ],
   "source": [
    "mydb = mysql.connector.connect(host='localhost',\\\n",
    "                              user=db_user,\\\n",
    "                              passwd=db_passwd\\\n",
    "#                               ,database='BIntelligenceDB'\\\n",
    "                              )\n",
    "                               \n",
    "print(mydb)"
   ]
  },
  {
   "cell_type": "code",
   "execution_count": 8,
   "metadata": {},
   "outputs": [],
   "source": [
    "# Create a database\n",
    "mycursor = mydb.cursor()\n",
    "\n",
    "# This line is commented out because it only needs to be run once\n",
    "mycursor.execute(\"CREATE DATABASE BIntelligenceDB\")"
   ]
  },
  {
   "cell_type": "code",
   "execution_count": 9,
   "metadata": {},
   "outputs": [
    {
     "name": "stdout",
     "output_type": "stream",
     "text": [
      "('BIntelligenceDB',)\n",
      "('information_schema',)\n",
      "('mysql',)\n",
      "('performance_schema',)\n",
      "('sys',)\n",
      "('testdb',)\n"
     ]
    }
   ],
   "source": [
    "mycursor.execute(\"SHOW DATABASES\")\n",
    "\n",
    "for db in mycursor:\n",
    "    print(db)"
   ]
  },
  {
   "cell_type": "code",
   "execution_count": null,
   "metadata": {},
   "outputs": [],
   "source": [
    "# # Create a table (do not erase/for refrerence)\n",
    "\n",
    "# mycursor.execute(\"CREATE TABLE county_jails\\\n",
    "#                  (reporting_jurisdictions VARCHAR(100),\\\n",
    "#                  county_name VARCHAR(100),\\\n",
    "#                  state_name VARCHAR(100),\\\n",
    "#                  Date VARCHAR(100),\\\n",
    "#                  jail_population INTEGER(255))\")\n",
    "\n",
    "# mycursor.execute(\"SHOW TABLES\")\n",
    "\n",
    "# for tb in mycursor:\n",
    "#     print(tb)"
   ]
  },
  {
   "cell_type": "code",
   "execution_count": null,
   "metadata": {},
   "outputs": [],
   "source": [
    "# sqlFormula = \"INSERT INTO county_jails (Date, reporting_jurisdictions, county_name, \\\n",
    "# state_name, jail_population) VALUES (%s, %s, %s, %s, %s)\""
   ]
  },
  {
   "cell_type": "markdown",
   "metadata": {},
   "source": [
    "## EDA"
   ]
  },
  {
   "cell_type": "code",
   "execution_count": null,
   "metadata": {},
   "outputs": [],
   "source": [
    "# Cowlitz = (todays_date, \"Cowlitz County Jail\", \"Cowlitz County\", \"WA\", Cowlitz_text)\n",
    "# mycursor.execute(sqlFormula, Cowlitz)\n",
    "# mydb.commit()"
   ]
  },
  {
   "cell_type": "code",
   "execution_count": 11,
   "metadata": {},
   "outputs": [
    {
     "data": {
      "text/html": [
       "<div>\n",
       "<style scoped>\n",
       "    .dataframe tbody tr th:only-of-type {\n",
       "        vertical-align: middle;\n",
       "    }\n",
       "\n",
       "    .dataframe tbody tr th {\n",
       "        vertical-align: top;\n",
       "    }\n",
       "\n",
       "    .dataframe thead th {\n",
       "        text-align: right;\n",
       "    }\n",
       "</style>\n",
       "<table border=\"1\" class=\"dataframe\">\n",
       "  <thead>\n",
       "    <tr style=\"text-align: right;\">\n",
       "      <th></th>\n",
       "      <th>Id</th>\n",
       "      <th>AccountId</th>\n",
       "      <th>Pricebook2Id</th>\n",
       "      <th>OwnerExpirationNotice</th>\n",
       "      <th>StartDate</th>\n",
       "      <th>EndDate</th>\n",
       "      <th>BillingStreet</th>\n",
       "      <th>BillingCity</th>\n",
       "      <th>BillingState</th>\n",
       "      <th>BillingPostalCode</th>\n",
       "      <th>...</th>\n",
       "      <th>Invoiced_In_Arrears_Balance_Amount__c</th>\n",
       "      <th>Originating_Opportunity__c</th>\n",
       "      <th>PO_Number__c</th>\n",
       "      <th>Payment_Frequency__c</th>\n",
       "      <th>Payment_Terms__c</th>\n",
       "      <th>Customer_Success_Rep__c</th>\n",
       "      <th>Billing_Contact__c</th>\n",
       "      <th>Logo__c</th>\n",
       "      <th>First_Conversation_Date__c</th>\n",
       "      <th>Last_Conversation_Date__c</th>\n",
       "    </tr>\n",
       "  </thead>\n",
       "  <tbody>\n",
       "    <tr>\n",
       "      <th>0</th>\n",
       "      <td>8002M000000Vrn9QAC</td>\n",
       "      <td>0014100000byjMrAAI</td>\n",
       "      <td>01s41000006ojbeAAA</td>\n",
       "      <td>NaN</td>\n",
       "      <td>2020-08-04</td>\n",
       "      <td>2020-10-03</td>\n",
       "      <td>NaN</td>\n",
       "      <td>NaN</td>\n",
       "      <td>NaN</td>\n",
       "      <td>NaN</td>\n",
       "      <td>...</td>\n",
       "      <td>NaN</td>\n",
       "      <td>0062M00000ku5usQAA</td>\n",
       "      <td>NaN</td>\n",
       "      <td>Custom / In Arrears</td>\n",
       "      <td>Net 45</td>\n",
       "      <td>0052M000008PvAJQA0</td>\n",
       "      <td>0032M00002ftK1SQAU</td>\n",
       "      <td>a0Y2M00000R48KgUAJ</td>\n",
       "      <td>2020-08-06</td>\n",
       "      <td>2020-08-18</td>\n",
       "    </tr>\n",
       "    <tr>\n",
       "      <th>1</th>\n",
       "      <td>8002M000000VrptQAC</td>\n",
       "      <td>0014100000bD20nAAC</td>\n",
       "      <td>01s41000006ojbeAAA</td>\n",
       "      <td>NaN</td>\n",
       "      <td>2020-08-06</td>\n",
       "      <td>2020-11-05</td>\n",
       "      <td>NaN</td>\n",
       "      <td>NaN</td>\n",
       "      <td>NaN</td>\n",
       "      <td>NaN</td>\n",
       "      <td>...</td>\n",
       "      <td>NaN</td>\n",
       "      <td>0062M00000jwUoPQAU</td>\n",
       "      <td>NaN</td>\n",
       "      <td>100% Upfront</td>\n",
       "      <td>Net 60</td>\n",
       "      <td>NaN</td>\n",
       "      <td>0034100002DqUdlAAF</td>\n",
       "      <td>a0Y2M00000R48G4UAJ</td>\n",
       "      <td>2020-08-14</td>\n",
       "      <td>2020-08-14</td>\n",
       "    </tr>\n",
       "    <tr>\n",
       "      <th>2</th>\n",
       "      <td>8002M000000VrqxQAC</td>\n",
       "      <td>0014100000GF56vAAD</td>\n",
       "      <td>01s41000006ojbeAAA</td>\n",
       "      <td>NaN</td>\n",
       "      <td>2020-08-05</td>\n",
       "      <td>2020-10-04</td>\n",
       "      <td>NaN</td>\n",
       "      <td>NaN</td>\n",
       "      <td>NaN</td>\n",
       "      <td>NaN</td>\n",
       "      <td>...</td>\n",
       "      <td>NaN</td>\n",
       "      <td>0062M00000ku2gLQAQ</td>\n",
       "      <td>NaN</td>\n",
       "      <td>Custom / In Arrears</td>\n",
       "      <td>Net 45</td>\n",
       "      <td>005410000060ULBAA2</td>\n",
       "      <td>0032M00002fDLn2QAG</td>\n",
       "      <td>a0Y2M00000R48KxUAJ</td>\n",
       "      <td>NaN</td>\n",
       "      <td>NaN</td>\n",
       "    </tr>\n",
       "    <tr>\n",
       "      <th>3</th>\n",
       "      <td>8002M000000VruGQAS</td>\n",
       "      <td>0014100000GF56vAAD</td>\n",
       "      <td>01s41000006ojbeAAA</td>\n",
       "      <td>NaN</td>\n",
       "      <td>2020-08-07</td>\n",
       "      <td>2020-10-06</td>\n",
       "      <td>NaN</td>\n",
       "      <td>NaN</td>\n",
       "      <td>NaN</td>\n",
       "      <td>NaN</td>\n",
       "      <td>...</td>\n",
       "      <td>NaN</td>\n",
       "      <td>0062M00000ku649QAA</td>\n",
       "      <td>NaN</td>\n",
       "      <td>Custom / In Arrears</td>\n",
       "      <td>Net 30</td>\n",
       "      <td>005410000060ULBAA2</td>\n",
       "      <td>0032M00002fDLn2QAG</td>\n",
       "      <td>a0Y2M00000R48KxUAJ</td>\n",
       "      <td>NaN</td>\n",
       "      <td>NaN</td>\n",
       "    </tr>\n",
       "    <tr>\n",
       "      <th>4</th>\n",
       "      <td>8002M000000VsWkQAK</td>\n",
       "      <td>0012M00002KRHt4QAH</td>\n",
       "      <td>01s41000006ojbeAAA</td>\n",
       "      <td>NaN</td>\n",
       "      <td>2020-08-14</td>\n",
       "      <td>2021-08-13</td>\n",
       "      <td>NaN</td>\n",
       "      <td>NaN</td>\n",
       "      <td>NaN</td>\n",
       "      <td>NaN</td>\n",
       "      <td>...</td>\n",
       "      <td>NaN</td>\n",
       "      <td>0062M00000jOGdNQAW</td>\n",
       "      <td>NaN</td>\n",
       "      <td>100% Upfront</td>\n",
       "      <td>Net 30</td>\n",
       "      <td>0052M000008zHZkQAM</td>\n",
       "      <td>0032M00002wbP4uQAE</td>\n",
       "      <td>a0Y2M00000R44TqUAJ</td>\n",
       "      <td>2020-09-02</td>\n",
       "      <td>2020-09-16</td>\n",
       "    </tr>\n",
       "  </tbody>\n",
       "</table>\n",
       "<p>5 rows × 61 columns</p>\n",
       "</div>"
      ],
      "text/plain": [
       "                   Id           AccountId        Pricebook2Id  \\\n",
       "0  8002M000000Vrn9QAC  0014100000byjMrAAI  01s41000006ojbeAAA   \n",
       "1  8002M000000VrptQAC  0014100000bD20nAAC  01s41000006ojbeAAA   \n",
       "2  8002M000000VrqxQAC  0014100000GF56vAAD  01s41000006ojbeAAA   \n",
       "3  8002M000000VruGQAS  0014100000GF56vAAD  01s41000006ojbeAAA   \n",
       "4  8002M000000VsWkQAK  0012M00002KRHt4QAH  01s41000006ojbeAAA   \n",
       "\n",
       "   OwnerExpirationNotice   StartDate     EndDate  BillingStreet  BillingCity  \\\n",
       "0                    NaN  2020-08-04  2020-10-03            NaN          NaN   \n",
       "1                    NaN  2020-08-06  2020-11-05            NaN          NaN   \n",
       "2                    NaN  2020-08-05  2020-10-04            NaN          NaN   \n",
       "3                    NaN  2020-08-07  2020-10-06            NaN          NaN   \n",
       "4                    NaN  2020-08-14  2021-08-13            NaN          NaN   \n",
       "\n",
       "   BillingState  BillingPostalCode  ... Invoiced_In_Arrears_Balance_Amount__c  \\\n",
       "0           NaN                NaN  ...                                   NaN   \n",
       "1           NaN                NaN  ...                                   NaN   \n",
       "2           NaN                NaN  ...                                   NaN   \n",
       "3           NaN                NaN  ...                                   NaN   \n",
       "4           NaN                NaN  ...                                   NaN   \n",
       "\n",
       "   Originating_Opportunity__c PO_Number__c  Payment_Frequency__c  \\\n",
       "0          0062M00000ku5usQAA          NaN   Custom / In Arrears   \n",
       "1          0062M00000jwUoPQAU          NaN          100% Upfront   \n",
       "2          0062M00000ku2gLQAQ          NaN   Custom / In Arrears   \n",
       "3          0062M00000ku649QAA          NaN   Custom / In Arrears   \n",
       "4          0062M00000jOGdNQAW          NaN          100% Upfront   \n",
       "\n",
       "   Payment_Terms__c  Customer_Success_Rep__c  Billing_Contact__c  \\\n",
       "0            Net 45       0052M000008PvAJQA0  0032M00002ftK1SQAU   \n",
       "1            Net 60                      NaN  0034100002DqUdlAAF   \n",
       "2            Net 45       005410000060ULBAA2  0032M00002fDLn2QAG   \n",
       "3            Net 30       005410000060ULBAA2  0032M00002fDLn2QAG   \n",
       "4            Net 30       0052M000008zHZkQAM  0032M00002wbP4uQAE   \n",
       "\n",
       "              Logo__c  First_Conversation_Date__c  Last_Conversation_Date__c  \n",
       "0  a0Y2M00000R48KgUAJ                  2020-08-06                 2020-08-18  \n",
       "1  a0Y2M00000R48G4UAJ                  2020-08-14                 2020-08-14  \n",
       "2  a0Y2M00000R48KxUAJ                         NaN                        NaN  \n",
       "3  a0Y2M00000R48KxUAJ                         NaN                        NaN  \n",
       "4  a0Y2M00000R44TqUAJ                  2020-09-02                 2020-09-16  \n",
       "\n",
       "[5 rows x 61 columns]"
      ]
     },
     "execution_count": 11,
     "metadata": {},
     "output_type": "execute_result"
    }
   ],
   "source": []
  },
  {
   "cell_type": "code",
   "execution_count": null,
   "metadata": {},
   "outputs": [],
   "source": []
  },
  {
   "cell_type": "code",
   "execution_count": null,
   "metadata": {},
   "outputs": [],
   "source": []
  },
  {
   "cell_type": "code",
   "execution_count": null,
   "metadata": {},
   "outputs": [],
   "source": []
  },
  {
   "cell_type": "code",
   "execution_count": null,
   "metadata": {},
   "outputs": [],
   "source": []
  },
  {
   "cell_type": "code",
   "execution_count": null,
   "metadata": {},
   "outputs": [],
   "source": []
  },
  {
   "cell_type": "code",
   "execution_count": null,
   "metadata": {},
   "outputs": [],
   "source": []
  },
  {
   "cell_type": "code",
   "execution_count": null,
   "metadata": {},
   "outputs": [],
   "source": []
  },
  {
   "cell_type": "code",
   "execution_count": null,
   "metadata": {},
   "outputs": [],
   "source": []
  },
  {
   "cell_type": "code",
   "execution_count": null,
   "metadata": {},
   "outputs": [],
   "source": [
    "# country_jail_df = pd.read_sql(\"SELECT DISTINCT * FROM county_jails\", con=mydb)\n",
    "# country_jail_df.head()"
   ]
  }
 ],
 "metadata": {
  "kernelspec": {
   "display_name": "Python 3",
   "language": "python",
   "name": "python3"
  },
  "language_info": {
   "codemirror_mode": {
    "name": "ipython",
    "version": 3
   },
   "file_extension": ".py",
   "mimetype": "text/x-python",
   "name": "python",
   "nbconvert_exporter": "python",
   "pygments_lexer": "ipython3",
   "version": "3.7.7"
  },
  "toc": {
   "base_numbering": 1,
   "nav_menu": {},
   "number_sections": true,
   "sideBar": true,
   "skip_h1_title": false,
   "title_cell": "Table of Contents",
   "title_sidebar": "Contents",
   "toc_cell": false,
   "toc_position": {},
   "toc_section_display": true,
   "toc_window_display": false
  }
 },
 "nbformat": 4,
 "nbformat_minor": 4
}
