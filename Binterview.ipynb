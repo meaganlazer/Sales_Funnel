{
 "cells": [
  {
   "cell_type": "markdown",
   "metadata": {},
   "source": [
    "# Binterview"
   ]
  },
  {
   "cell_type": "markdown",
   "metadata": {},
   "source": [
    "Objective #1\n",
    "- Tell us the conversion rate of Pilot Opportunities to Annual Opportunities\n",
    "  - On the opportunity object, there is a unique id that connects pilots opportunities to annuals\n",
    "  - Annuals are defined as Type = Bulk\n",
    "  - Pilots and Annuals are related upon the pilot being won\n",
    "- What is the likelihood that an annual will be won when creating a pilot?\n",
    "- What is the likelihood that an annual will be won when winning a pilot?\n",
    "\n",
    "Objective #2\n",
    "- Of all the sessions requested how many are sold?\n",
    "  - All Opportunities have a Session Request and all Session Requests that are Accepted are associated with the Session Record\n",
    "- What requested Research Product is most likely to be sold? Explain how you came to that conclusion.\n",
    "  - Sessions have Service Requests Records related to them, these records are the Products that are being requested by the sales team and relate back to the Product in our Product Catalog.\n",
    "\n",
    "Objective #3\n",
    "- What is the average Booking value of Opportunities with sessions sold since July?"
   ]
  },
  {
   "cell_type": "markdown",
   "metadata": {},
   "source": [
    "## Imports"
   ]
  },
  {
   "cell_type": "code",
   "execution_count": 1,
   "metadata": {},
   "outputs": [],
   "source": [
    "# Import libraries\n",
    "import pandas as pd\n",
    "import numpy as np\n",
    "import seaborn as sns\n",
    "import matplotlib.pyplot as plt\n",
    "%matplotlib inline\n",
    "import datetime as datetime\n",
    "\n",
    "#SQL\n",
    "import mysql.connector\n",
    "import os"
   ]
  },
  {
   "cell_type": "code",
   "execution_count": 2,
   "metadata": {},
   "outputs": [],
   "source": [
    "# Import Salesforce data\n",
    "contracts_df = pd.read_csv('contracts.csv')\n",
    "opps_df = pd.read_csv('Opps Table (July to present).csv')\n",
    "product_df = pd.read_csv('Product Table.csv')\n",
    "project_df = pd.read_csv('project_request__cs.csv')\n",
    "RProject_df = pd.read_csv('remesh_project__cs.csv')\n",
    "service_df = pd.read_csv('service_request__cs.csv')\n",
    "SessionRequest_df = pd.read_csv('Session Request Table.csv')\n",
    "session_cs_df = pd.read_csv('session__cs.csv')\n",
    "SessionProduct_df = pd.read_csv('session_product__cs.csv')"
   ]
  },
  {
   "cell_type": "markdown",
   "metadata": {},
   "source": [
    "### Contracts <br />\n",
    "DB Name: contracts_df <br />\n",
    "File Name: contracts.csv <br />\n",
    "1367 entries <br />"
   ]
  },
  {
   "cell_type": "code",
   "execution_count": 3,
   "metadata": {},
   "outputs": [
    {
     "data": {
      "text/html": [
       "<div>\n",
       "<style scoped>\n",
       "    .dataframe tbody tr th:only-of-type {\n",
       "        vertical-align: middle;\n",
       "    }\n",
       "\n",
       "    .dataframe tbody tr th {\n",
       "        vertical-align: top;\n",
       "    }\n",
       "\n",
       "    .dataframe thead th {\n",
       "        text-align: right;\n",
       "    }\n",
       "</style>\n",
       "<table border=\"1\" class=\"dataframe\">\n",
       "  <thead>\n",
       "    <tr style=\"text-align: right;\">\n",
       "      <th></th>\n",
       "      <th>Id</th>\n",
       "      <th>AccountId</th>\n",
       "      <th>Pricebook2Id</th>\n",
       "      <th>OwnerExpirationNotice</th>\n",
       "      <th>StartDate</th>\n",
       "      <th>EndDate</th>\n",
       "      <th>BillingStreet</th>\n",
       "      <th>BillingCity</th>\n",
       "      <th>BillingState</th>\n",
       "      <th>BillingPostalCode</th>\n",
       "      <th>...</th>\n",
       "      <th>Invoiced_In_Arrears_Balance_Amount__c</th>\n",
       "      <th>Originating_Opportunity__c</th>\n",
       "      <th>PO_Number__c</th>\n",
       "      <th>Payment_Frequency__c</th>\n",
       "      <th>Payment_Terms__c</th>\n",
       "      <th>Customer_Success_Rep__c</th>\n",
       "      <th>Billing_Contact__c</th>\n",
       "      <th>Logo__c</th>\n",
       "      <th>First_Conversation_Date__c</th>\n",
       "      <th>Last_Conversation_Date__c</th>\n",
       "    </tr>\n",
       "  </thead>\n",
       "  <tbody>\n",
       "    <tr>\n",
       "      <th>0</th>\n",
       "      <td>8002M000000Vrn9QAC</td>\n",
       "      <td>0014100000byjMrAAI</td>\n",
       "      <td>01s41000006ojbeAAA</td>\n",
       "      <td>NaN</td>\n",
       "      <td>2020-08-04</td>\n",
       "      <td>2020-10-03</td>\n",
       "      <td>NaN</td>\n",
       "      <td>NaN</td>\n",
       "      <td>NaN</td>\n",
       "      <td>NaN</td>\n",
       "      <td>...</td>\n",
       "      <td>NaN</td>\n",
       "      <td>0062M00000ku5usQAA</td>\n",
       "      <td>NaN</td>\n",
       "      <td>Custom / In Arrears</td>\n",
       "      <td>Net 45</td>\n",
       "      <td>0052M000008PvAJQA0</td>\n",
       "      <td>0032M00002ftK1SQAU</td>\n",
       "      <td>a0Y2M00000R48KgUAJ</td>\n",
       "      <td>2020-08-06</td>\n",
       "      <td>2020-08-18</td>\n",
       "    </tr>\n",
       "    <tr>\n",
       "      <th>1</th>\n",
       "      <td>8002M000000VrptQAC</td>\n",
       "      <td>0014100000bD20nAAC</td>\n",
       "      <td>01s41000006ojbeAAA</td>\n",
       "      <td>NaN</td>\n",
       "      <td>2020-08-06</td>\n",
       "      <td>2020-11-05</td>\n",
       "      <td>NaN</td>\n",
       "      <td>NaN</td>\n",
       "      <td>NaN</td>\n",
       "      <td>NaN</td>\n",
       "      <td>...</td>\n",
       "      <td>NaN</td>\n",
       "      <td>0062M00000jwUoPQAU</td>\n",
       "      <td>NaN</td>\n",
       "      <td>100% Upfront</td>\n",
       "      <td>Net 60</td>\n",
       "      <td>NaN</td>\n",
       "      <td>0034100002DqUdlAAF</td>\n",
       "      <td>a0Y2M00000R48G4UAJ</td>\n",
       "      <td>2020-08-14</td>\n",
       "      <td>2020-08-14</td>\n",
       "    </tr>\n",
       "    <tr>\n",
       "      <th>2</th>\n",
       "      <td>8002M000000VrqxQAC</td>\n",
       "      <td>0014100000GF56vAAD</td>\n",
       "      <td>01s41000006ojbeAAA</td>\n",
       "      <td>NaN</td>\n",
       "      <td>2020-08-05</td>\n",
       "      <td>2020-10-04</td>\n",
       "      <td>NaN</td>\n",
       "      <td>NaN</td>\n",
       "      <td>NaN</td>\n",
       "      <td>NaN</td>\n",
       "      <td>...</td>\n",
       "      <td>NaN</td>\n",
       "      <td>0062M00000ku2gLQAQ</td>\n",
       "      <td>NaN</td>\n",
       "      <td>Custom / In Arrears</td>\n",
       "      <td>Net 45</td>\n",
       "      <td>005410000060ULBAA2</td>\n",
       "      <td>0032M00002fDLn2QAG</td>\n",
       "      <td>a0Y2M00000R48KxUAJ</td>\n",
       "      <td>NaN</td>\n",
       "      <td>NaN</td>\n",
       "    </tr>\n",
       "    <tr>\n",
       "      <th>3</th>\n",
       "      <td>8002M000000VruGQAS</td>\n",
       "      <td>0014100000GF56vAAD</td>\n",
       "      <td>01s41000006ojbeAAA</td>\n",
       "      <td>NaN</td>\n",
       "      <td>2020-08-07</td>\n",
       "      <td>2020-10-06</td>\n",
       "      <td>NaN</td>\n",
       "      <td>NaN</td>\n",
       "      <td>NaN</td>\n",
       "      <td>NaN</td>\n",
       "      <td>...</td>\n",
       "      <td>NaN</td>\n",
       "      <td>0062M00000ku649QAA</td>\n",
       "      <td>NaN</td>\n",
       "      <td>Custom / In Arrears</td>\n",
       "      <td>Net 30</td>\n",
       "      <td>005410000060ULBAA2</td>\n",
       "      <td>0032M00002fDLn2QAG</td>\n",
       "      <td>a0Y2M00000R48KxUAJ</td>\n",
       "      <td>NaN</td>\n",
       "      <td>NaN</td>\n",
       "    </tr>\n",
       "    <tr>\n",
       "      <th>4</th>\n",
       "      <td>8002M000000VsWkQAK</td>\n",
       "      <td>0012M00002KRHt4QAH</td>\n",
       "      <td>01s41000006ojbeAAA</td>\n",
       "      <td>NaN</td>\n",
       "      <td>2020-08-14</td>\n",
       "      <td>2021-08-13</td>\n",
       "      <td>NaN</td>\n",
       "      <td>NaN</td>\n",
       "      <td>NaN</td>\n",
       "      <td>NaN</td>\n",
       "      <td>...</td>\n",
       "      <td>NaN</td>\n",
       "      <td>0062M00000jOGdNQAW</td>\n",
       "      <td>NaN</td>\n",
       "      <td>100% Upfront</td>\n",
       "      <td>Net 30</td>\n",
       "      <td>0052M000008zHZkQAM</td>\n",
       "      <td>0032M00002wbP4uQAE</td>\n",
       "      <td>a0Y2M00000R44TqUAJ</td>\n",
       "      <td>2020-09-02</td>\n",
       "      <td>2020-09-16</td>\n",
       "    </tr>\n",
       "  </tbody>\n",
       "</table>\n",
       "<p>5 rows × 61 columns</p>\n",
       "</div>"
      ],
      "text/plain": [
       "                   Id           AccountId        Pricebook2Id  \\\n",
       "0  8002M000000Vrn9QAC  0014100000byjMrAAI  01s41000006ojbeAAA   \n",
       "1  8002M000000VrptQAC  0014100000bD20nAAC  01s41000006ojbeAAA   \n",
       "2  8002M000000VrqxQAC  0014100000GF56vAAD  01s41000006ojbeAAA   \n",
       "3  8002M000000VruGQAS  0014100000GF56vAAD  01s41000006ojbeAAA   \n",
       "4  8002M000000VsWkQAK  0012M00002KRHt4QAH  01s41000006ojbeAAA   \n",
       "\n",
       "   OwnerExpirationNotice   StartDate     EndDate  BillingStreet  BillingCity  \\\n",
       "0                    NaN  2020-08-04  2020-10-03            NaN          NaN   \n",
       "1                    NaN  2020-08-06  2020-11-05            NaN          NaN   \n",
       "2                    NaN  2020-08-05  2020-10-04            NaN          NaN   \n",
       "3                    NaN  2020-08-07  2020-10-06            NaN          NaN   \n",
       "4                    NaN  2020-08-14  2021-08-13            NaN          NaN   \n",
       "\n",
       "   BillingState  BillingPostalCode  ... Invoiced_In_Arrears_Balance_Amount__c  \\\n",
       "0           NaN                NaN  ...                                   NaN   \n",
       "1           NaN                NaN  ...                                   NaN   \n",
       "2           NaN                NaN  ...                                   NaN   \n",
       "3           NaN                NaN  ...                                   NaN   \n",
       "4           NaN                NaN  ...                                   NaN   \n",
       "\n",
       "   Originating_Opportunity__c PO_Number__c  Payment_Frequency__c  \\\n",
       "0          0062M00000ku5usQAA          NaN   Custom / In Arrears   \n",
       "1          0062M00000jwUoPQAU          NaN          100% Upfront   \n",
       "2          0062M00000ku2gLQAQ          NaN   Custom / In Arrears   \n",
       "3          0062M00000ku649QAA          NaN   Custom / In Arrears   \n",
       "4          0062M00000jOGdNQAW          NaN          100% Upfront   \n",
       "\n",
       "   Payment_Terms__c  Customer_Success_Rep__c  Billing_Contact__c  \\\n",
       "0            Net 45       0052M000008PvAJQA0  0032M00002ftK1SQAU   \n",
       "1            Net 60                      NaN  0034100002DqUdlAAF   \n",
       "2            Net 45       005410000060ULBAA2  0032M00002fDLn2QAG   \n",
       "3            Net 30       005410000060ULBAA2  0032M00002fDLn2QAG   \n",
       "4            Net 30       0052M000008zHZkQAM  0032M00002wbP4uQAE   \n",
       "\n",
       "              Logo__c  First_Conversation_Date__c  Last_Conversation_Date__c  \n",
       "0  a0Y2M00000R48KgUAJ                  2020-08-06                 2020-08-18  \n",
       "1  a0Y2M00000R48G4UAJ                  2020-08-14                 2020-08-14  \n",
       "2  a0Y2M00000R48KxUAJ                         NaN                        NaN  \n",
       "3  a0Y2M00000R48KxUAJ                         NaN                        NaN  \n",
       "4  a0Y2M00000R44TqUAJ                  2020-09-02                 2020-09-16  \n",
       "\n",
       "[5 rows x 61 columns]"
      ]
     },
     "execution_count": 3,
     "metadata": {},
     "output_type": "execute_result"
    }
   ],
   "source": [
    "contracts_df.head()"
   ]
  },
  {
   "cell_type": "code",
   "execution_count": 4,
   "metadata": {},
   "outputs": [
    {
     "name": "stdout",
     "output_type": "stream",
     "text": [
      "<class 'pandas.core.frame.DataFrame'>\n",
      "RangeIndex: 1367 entries, 0 to 1366\n",
      "Data columns (total 61 columns):\n",
      " #   Column                                 Non-Null Count  Dtype         \n",
      "---  ------                                 --------------  -----         \n",
      " 0   Id                                     1367 non-null   object        \n",
      " 1   AccountId                              1367 non-null   object        \n",
      " 2   Pricebook2Id                           1367 non-null   object        \n",
      " 3   OwnerExpirationNotice                  0 non-null      float64       \n",
      " 4   StartDate                              1367 non-null   datetime64[ns]\n",
      " 5   EndDate                                1367 non-null   object        \n",
      " 6   BillingStreet                          0 non-null      float64       \n",
      " 7   BillingCity                            0 non-null      float64       \n",
      " 8   BillingState                           0 non-null      float64       \n",
      " 9   BillingPostalCode                      0 non-null      float64       \n",
      " 10  BillingCountry                         1367 non-null   object        \n",
      " 11  BillingStateCode                       0 non-null      float64       \n",
      " 12  BillingCountryCode                     1367 non-null   object        \n",
      " 13  BillingLatitude                        0 non-null      float64       \n",
      " 14  BillingLongitude                       0 non-null      float64       \n",
      " 15  BillingGeocodeAccuracy                 0 non-null      float64       \n",
      " 16  ShippingStreet                         0 non-null      float64       \n",
      " 17  ShippingCity                           0 non-null      float64       \n",
      " 18  ShippingState                          0 non-null      float64       \n",
      " 19  ShippingPostalCode                     0 non-null      float64       \n",
      " 20  ShippingCountry                        1367 non-null   object        \n",
      " 21  ShippingStateCode                      0 non-null      float64       \n",
      " 22  ShippingCountryCode                    1367 non-null   object        \n",
      " 23  ShippingLatitude                       0 non-null      float64       \n",
      " 24  ShippingLongitude                      0 non-null      float64       \n",
      " 25  ShippingGeocodeAccuracy                0 non-null      float64       \n",
      " 26  ContractTerm                           1367 non-null   int64         \n",
      " 27  OwnerId                                1367 non-null   object        \n",
      " 28  Status                                 1367 non-null   object        \n",
      " 29  CompanySignedId                        0 non-null      float64       \n",
      " 30  CompanySignedDate                      0 non-null      float64       \n",
      " 31  CustomerSignedId                       0 non-null      float64       \n",
      " 32  CustomerSignedTitle                    0 non-null      float64       \n",
      " 33  CustomerSignedDate                     0 non-null      float64       \n",
      " 34  SpecialTerms                           6 non-null      object        \n",
      " 35  ActivatedById                          1360 non-null   object        \n",
      " 36  ActivatedDate                          1360 non-null   object        \n",
      " 37  StatusCode                             1367 non-null   object        \n",
      " 38  Description                            22 non-null     object        \n",
      " 39  Name                                   0 non-null      float64       \n",
      " 40  IsDeleted                              1367 non-null   bool          \n",
      " 41  ContractNumber                         1367 non-null   int64         \n",
      " 42  LastApprovedDate                       0 non-null      float64       \n",
      " 43  CreatedDate                            1367 non-null   object        \n",
      " 44  CreatedById                            1367 non-null   object        \n",
      " 45  LastModifiedDate                       1367 non-null   object        \n",
      " 46  LastModifiedById                       1367 non-null   object        \n",
      " 47  SystemModstamp                         1367 non-null   object        \n",
      " 48  LastActivityDate                       0 non-null      float64       \n",
      " 49  Auto_Renew__c                          1367 non-null   bool          \n",
      " 50  Custom_Payment_Terms__c                774 non-null    object        \n",
      " 51  Invoiced_In_Arrears_Balance_Amount__c  0 non-null      float64       \n",
      " 52  Originating_Opportunity__c             1366 non-null   object        \n",
      " 53  PO_Number__c                           0 non-null      float64       \n",
      " 54  Payment_Frequency__c                   333 non-null    object        \n",
      " 55  Payment_Terms__c                       347 non-null    object        \n",
      " 56  Customer_Success_Rep__c                829 non-null    object        \n",
      " 57  Billing_Contact__c                     253 non-null    object        \n",
      " 58  Logo__c                                1351 non-null   object        \n",
      " 59  First_Conversation_Date__c             783 non-null    object        \n",
      " 60  Last_Conversation_Date__c              783 non-null    object        \n",
      "dtypes: bool(2), datetime64[ns](1), float64(27), int64(2), object(29)\n",
      "memory usage: 632.9+ KB\n"
     ]
    }
   ],
   "source": [
    "contracts_df['StartDate'] = pd.to_datetime(contracts_df['StartDate'])\n",
    "contracts_df.info()"
   ]
  },
  {
   "cell_type": "markdown",
   "metadata": {},
   "source": [
    "### Opportunities <br />\n",
    "DB Name: opps_df <br />\n",
    "File Name: Opps Table (July to present).csv <br />\n",
    "721 entries <br />"
   ]
  },
  {
   "cell_type": "code",
   "execution_count": 5,
   "metadata": {
    "scrolled": true
   },
   "outputs": [
    {
     "data": {
      "text/plain": [
       "count                    721\n",
       "unique                   721\n",
       "top       0062M00000kvskUQAQ\n",
       "freq                       1\n",
       "Name: Id, dtype: object"
      ]
     },
     "execution_count": 5,
     "metadata": {},
     "output_type": "execute_result"
    }
   ],
   "source": [
    "opps_df.Id.describe()"
   ]
  },
  {
   "cell_type": "code",
   "execution_count": 6,
   "metadata": {},
   "outputs": [
    {
     "name": "stdout",
     "output_type": "stream",
     "text": [
      "Id\n",
      "IsDeleted\n",
      "AccountId\n",
      "RecordTypeId\n",
      "IsPrivate\n",
      "StageName\n",
      "Amount\n",
      "Probability\n",
      "ExpectedRevenue\n",
      "TotalOpportunityQuantity\n",
      "CloseDate\n",
      "Type\n",
      "LeadSource\n",
      "IsClosed\n",
      "IsWon\n",
      "ForecastCategory\n",
      "ForecastCategoryName\n",
      "CampaignId\n",
      "Pricebook2Id\n",
      "OwnerId\n",
      "CreatedDate\n",
      "CreatedById\n",
      "LastModifiedDate\n",
      "LastModifiedById\n",
      "SystemModstamp\n",
      "LastActivityDate\n",
      "FiscalQuarter\n",
      "FiscalYear\n",
      "Fiscal\n",
      "ContactId\n",
      "SyncedQuoteId\n",
      "ContractId\n",
      "HasOverdueTask\n",
      "IqScore\n",
      "Budget_Confirmed__c\n",
      "Discovery_Completed__c\n",
      "ROI_Analysis_Completed__c\n",
      "Salesforce_Opportunity__c\n",
      "Loss_Reason__c\n",
      "Billing_Contact__c\n",
      "Projects_on_this_opportunity__c\n",
      "Confirmed_Session_Date_Time__c\n",
      "PO_Number__c\n",
      "PushCount__c\n",
      "Meeting_or_Demo_Date__c\n",
      "PM_Overseeing__c\n",
      "Bid_Request__c\n",
      "Recognized_Revenue_from_Projects__c\n",
      "Preferred_Sample_Size__c\n",
      "Request_for_a_CS_Manager__c\n",
      "Lead_Id__c\n",
      "Primary_Contact__c\n",
      "Top_of_Funnel_Entry_Date__c\n",
      "Support_needs__c\n",
      "APM_or_Bulk__c\n",
      "In_house_Services_Approved__c\n",
      "Project_Manager__c\n",
      "QB_Journal_Sync_Error__c\n",
      "Invoice_sent__c\n",
      "Cancellation_Fee__c\n",
      "CS_Manager__c\n",
      "Marketing_Source__c\n",
      "Closed_Won_Date_Time__c\n",
      "Contract_Sent_Date_Time__c\n",
      "SDR__c\n",
      "Company_Region__c\n",
      "Company_Division__c\n",
      "Use_Case__c\n",
      "Number_of_Accepted_Projects__c\n",
      "Opportunity_Logo_Classification__c\n",
      "ABM_Account__c\n",
      "Payment_Terms__c\n",
      "Contract_Start_Date__c\n",
      "Contract_End_Date__c\n",
      "LID__Is_Influenced__c\n",
      "LID__LinkedIn_Company_Id__c\n",
      "Auto_Renewal__c\n",
      "Rollover_Percentage__c\n",
      "Sales_First_Contact_Date__c\n",
      "Billing_Type__c\n",
      "SalesLoft1__Primary_Contact__c\n",
      "Pilot__c\n",
      "Signed_Paperwork_Attached__c\n",
      "Request_In_House_Services__c\n",
      "Total_Revenue_From_Purch_History__c\n",
      "Total_Sample_Products__c\n",
      "Predicted_Sample_Cost__c\n",
      "Total_Sample_Cost__c\n",
      "Total_In_House_Service_Cost__c\n",
      "Annual_Opportunity__c\n",
      "Pilot_Opportunity__c\n",
      "Platform_Type__c\n",
      "Opportunity_Amendment_Notes__c\n",
      "Billing_Instructions__c\n",
      "Custom_Payment_Terms__c\n",
      "PO_Required__c\n",
      "Payment_Frequency__c\n",
      "Term_Months__c\n",
      "Opp_Category__c\n",
      "Outreach_First_Primary_Contact_Sequence__c\n",
      "Outreach_First_Primary_Contact__c\n",
      "Notify_User_Of_Opp_Account_Change__c\n",
      "Adjustment_Reason__c\n",
      "Contract_Term_Months__c\n",
      "Deal_Type__c\n",
      "Is_Pilot__c\n",
      "PO_Amount__c\n",
      "Renewed_from_Contract__c\n",
      "Special_Terms__c\n"
     ]
    }
   ],
   "source": [
    "for col in opps_df.columns: \n",
    "    print(col)"
   ]
  },
  {
   "cell_type": "markdown",
   "metadata": {},
   "source": [
    "### Products <br />\n",
    "DB Name: product_df <br />\n",
    "File Name: Product Table.csv <br />\n",
    "128 entries <br />"
   ]
  },
  {
   "cell_type": "code",
   "execution_count": 7,
   "metadata": {
    "scrolled": false
   },
   "outputs": [
    {
     "data": {
      "text/html": [
       "<div>\n",
       "<style scoped>\n",
       "    .dataframe tbody tr th:only-of-type {\n",
       "        vertical-align: middle;\n",
       "    }\n",
       "\n",
       "    .dataframe tbody tr th {\n",
       "        vertical-align: top;\n",
       "    }\n",
       "\n",
       "    .dataframe thead th {\n",
       "        text-align: right;\n",
       "    }\n",
       "</style>\n",
       "<table border=\"1\" class=\"dataframe\">\n",
       "  <thead>\n",
       "    <tr style=\"text-align: right;\">\n",
       "      <th></th>\n",
       "      <th>Product Name</th>\n",
       "      <th>Active (Product)</th>\n",
       "      <th>Product 18 Chad Id</th>\n",
       "      <th>Product Description</th>\n",
       "      <th>Product Code</th>\n",
       "      <th>Product Type</th>\n",
       "      <th>Product Family</th>\n",
       "      <th>Sub-Family</th>\n",
       "    </tr>\n",
       "  </thead>\n",
       "  <tbody>\n",
       "    <tr>\n",
       "      <th>0</th>\n",
       "      <td>Active Participant Minute</td>\n",
       "      <td>1</td>\n",
       "      <td>01t2M000005NAvEQAW</td>\n",
       "      <td>Price for a single Active Participant Minute--...</td>\n",
       "      <td>NaN</td>\n",
       "      <td>Revenue</td>\n",
       "      <td>Product</td>\n",
       "      <td>Platform</td>\n",
       "    </tr>\n",
       "    <tr>\n",
       "      <th>1</th>\n",
       "      <td>Discussion Guide</td>\n",
       "      <td>1</td>\n",
       "      <td>01t2M000005nonvQAA</td>\n",
       "      <td>Discussion Guide only</td>\n",
       "      <td>NaN</td>\n",
       "      <td>NaN</td>\n",
       "      <td>NaN</td>\n",
       "      <td>NaN</td>\n",
       "    </tr>\n",
       "    <tr>\n",
       "      <th>2</th>\n",
       "      <td>Discussion Guide, Moderation</td>\n",
       "      <td>0</td>\n",
       "      <td>01t2M000005noo0QAA</td>\n",
       "      <td>Discussion Guide, Moderation</td>\n",
       "      <td>NaN</td>\n",
       "      <td>NaN</td>\n",
       "      <td>NaN</td>\n",
       "      <td>NaN</td>\n",
       "    </tr>\n",
       "    <tr>\n",
       "      <th>3</th>\n",
       "      <td>DG, Moderation, Topline Report</td>\n",
       "      <td>1</td>\n",
       "      <td>01t2M000005noo5QAA</td>\n",
       "      <td>DG, Moderation, Topline Report</td>\n",
       "      <td>NaN</td>\n",
       "      <td>NaN</td>\n",
       "      <td>NaN</td>\n",
       "      <td>NaN</td>\n",
       "    </tr>\n",
       "    <tr>\n",
       "      <th>4</th>\n",
       "      <td>DG, Moderation, Moderate Report</td>\n",
       "      <td>1</td>\n",
       "      <td>01t2M000005nooAQAQ</td>\n",
       "      <td>DG, Moderation, Moderate Report</td>\n",
       "      <td>NaN</td>\n",
       "      <td>NaN</td>\n",
       "      <td>NaN</td>\n",
       "      <td>NaN</td>\n",
       "    </tr>\n",
       "  </tbody>\n",
       "</table>\n",
       "</div>"
      ],
      "text/plain": [
       "                      Product Name  Active (Product)  Product 18 Chad Id  \\\n",
       "0        Active Participant Minute                 1  01t2M000005NAvEQAW   \n",
       "1                 Discussion Guide                 1  01t2M000005nonvQAA   \n",
       "2     Discussion Guide, Moderation                 0  01t2M000005noo0QAA   \n",
       "3   DG, Moderation, Topline Report                 1  01t2M000005noo5QAA   \n",
       "4  DG, Moderation, Moderate Report                 1  01t2M000005nooAQAQ   \n",
       "\n",
       "                                 Product Description Product Code  \\\n",
       "0  Price for a single Active Participant Minute--...          NaN   \n",
       "1                              Discussion Guide only          NaN   \n",
       "2                       Discussion Guide, Moderation          NaN   \n",
       "3                     DG, Moderation, Topline Report          NaN   \n",
       "4                    DG, Moderation, Moderate Report          NaN   \n",
       "\n",
       "  Product Type Product Family Sub-Family  \n",
       "0      Revenue        Product   Platform  \n",
       "1          NaN            NaN        NaN  \n",
       "2          NaN            NaN        NaN  \n",
       "3          NaN            NaN        NaN  \n",
       "4          NaN            NaN        NaN  "
      ]
     },
     "execution_count": 7,
     "metadata": {},
     "output_type": "execute_result"
    }
   ],
   "source": [
    "product_df = pd.read_csv('Product Table.csv')\n",
    "product_df.head()"
   ]
  },
  {
   "cell_type": "code",
   "execution_count": 8,
   "metadata": {},
   "outputs": [],
   "source": [
    "product_df.rename(columns={'Product 18 Chad Id':'Product__c'}, inplace=True)"
   ]
  },
  {
   "cell_type": "code",
   "execution_count": 9,
   "metadata": {},
   "outputs": [
    {
     "name": "stdout",
     "output_type": "stream",
     "text": [
      "<class 'pandas.core.frame.DataFrame'>\n",
      "RangeIndex: 128 entries, 0 to 127\n",
      "Data columns (total 8 columns):\n",
      " #   Column               Non-Null Count  Dtype \n",
      "---  ------               --------------  ----- \n",
      " 0   Product Name         128 non-null    object\n",
      " 1   Active (Product)     128 non-null    int64 \n",
      " 2   Product__c           128 non-null    object\n",
      " 3   Product Description  18 non-null     object\n",
      " 4   Product Code         3 non-null      object\n",
      " 5   Product Type         102 non-null    object\n",
      " 6   Product Family       105 non-null    object\n",
      " 7   Sub-Family           100 non-null    object\n",
      "dtypes: int64(1), object(7)\n",
      "memory usage: 8.1+ KB\n"
     ]
    }
   ],
   "source": [
    "product_df.info()"
   ]
  },
  {
   "cell_type": "code",
   "execution_count": 10,
   "metadata": {},
   "outputs": [],
   "source": [
    "#Make a copy of opps\n",
    "product2_df = product_df.copy()\n",
    "product2_df = product2_df[['Product__c','Product Name']]"
   ]
  },
  {
   "cell_type": "markdown",
   "metadata": {},
   "source": [
    "### Project Requests <br />\n",
    "DB Name: project_df <br />\n",
    "File Name: project_request__cs.csv <br />\n",
    "435 entries <br />"
   ]
  },
  {
   "cell_type": "code",
   "execution_count": 11,
   "metadata": {},
   "outputs": [
    {
     "data": {
      "text/plain": [
       "Index(['Id', 'OwnerId', 'IsDeleted', 'CreatedDate', 'CreatedById',\n",
       "       'LastModifiedDate', 'LastModifiedById', 'SystemModstamp',\n",
       "       'LastActivityDate', 'Decision__c', 'Opportunity__c', 'Project__c',\n",
       "       'Status__c'],\n",
       "      dtype='object')"
      ]
     },
     "execution_count": 11,
     "metadata": {},
     "output_type": "execute_result"
    }
   ],
   "source": [
    "project_df.columns"
   ]
  },
  {
   "cell_type": "markdown",
   "metadata": {},
   "source": [
    "### Remesh Projects <br />\n",
    "DB Name: RProject_df <br />\n",
    "File Name: remesh_project__cs.csv <br />\n",
    "1367 entries <br />"
   ]
  },
  {
   "cell_type": "code",
   "execution_count": 12,
   "metadata": {},
   "outputs": [
    {
     "data": {
      "text/plain": [
       "Index(['Id', 'OwnerId', 'IsDeleted', 'Name', 'CreatedDate', 'CreatedById',\n",
       "       'LastModifiedDate', 'LastModifiedById', 'SystemModstamp',\n",
       "       'LastActivityDate', 'Account__c', 'Contract__c', 'Project_Request__c',\n",
       "       'Project_Title__c', 'Quotas__c', 'Status__c', 'TEMP_Old_Project_Id__c',\n",
       "       'TEMP_Migrate__c'],\n",
       "      dtype='object')"
      ]
     },
     "execution_count": 12,
     "metadata": {},
     "output_type": "execute_result"
    }
   ],
   "source": [
    "RProject_df.columns"
   ]
  },
  {
   "cell_type": "markdown",
   "metadata": {},
   "source": [
    "### Service Request <br />\n",
    "DB Name: service_df <br />\n",
    "File Name: service_request__cs.csv <br />\n",
    "1411 entries <br />"
   ]
  },
  {
   "cell_type": "code",
   "execution_count": 13,
   "metadata": {
    "scrolled": true
   },
   "outputs": [
    {
     "data": {
      "text/html": [
       "<div>\n",
       "<style scoped>\n",
       "    .dataframe tbody tr th:only-of-type {\n",
       "        vertical-align: middle;\n",
       "    }\n",
       "\n",
       "    .dataframe tbody tr th {\n",
       "        vertical-align: top;\n",
       "    }\n",
       "\n",
       "    .dataframe thead th {\n",
       "        text-align: right;\n",
       "    }\n",
       "</style>\n",
       "<table border=\"1\" class=\"dataframe\">\n",
       "  <thead>\n",
       "    <tr style=\"text-align: right;\">\n",
       "      <th></th>\n",
       "      <th>Id</th>\n",
       "      <th>OwnerId</th>\n",
       "      <th>IsDeleted</th>\n",
       "      <th>Name</th>\n",
       "      <th>CreatedDate</th>\n",
       "      <th>CreatedById</th>\n",
       "      <th>LastModifiedDate</th>\n",
       "      <th>LastModifiedById</th>\n",
       "      <th>SystemModstamp</th>\n",
       "      <th>LastActivityDate</th>\n",
       "      <th>Decision__c</th>\n",
       "      <th>Opportunity__c</th>\n",
       "      <th>Product__c</th>\n",
       "      <th>Project_Request__c</th>\n",
       "      <th>Session_Product__c</th>\n",
       "      <th>Session_Request__c</th>\n",
       "      <th>Total_Price_Override__c</th>\n",
       "      <th>Re_calculate_totals_on_session__c</th>\n",
       "      <th>Status__c</th>\n",
       "      <th>Previous_Booked_Amount__c</th>\n",
       "    </tr>\n",
       "  </thead>\n",
       "  <tbody>\n",
       "    <tr>\n",
       "      <th>0</th>\n",
       "      <td>a3R2M000000VUwjUAG</td>\n",
       "      <td>0052M000008zLmjQAE</td>\n",
       "      <td>False</td>\n",
       "      <td>RP-691</td>\n",
       "      <td>2020-08-03T12:22:35.000+0000</td>\n",
       "      <td>00541000007VOCUAA4</td>\n",
       "      <td>2020-08-03T13:49:49.000+0000</td>\n",
       "      <td>0052M000008zLmjQAE</td>\n",
       "      <td>2020-08-03T13:49:49.000+0000</td>\n",
       "      <td>NaN</td>\n",
       "      <td>NaN</td>\n",
       "      <td>0062M00000ktyYUQAY</td>\n",
       "      <td>01t2M000008JOtJQAW</td>\n",
       "      <td>a1J2M00000Tc4kcUAB</td>\n",
       "      <td>NaN</td>\n",
       "      <td>a3V2M000000UJzAUAW</td>\n",
       "      <td>NaN</td>\n",
       "      <td>False</td>\n",
       "      <td>NaN</td>\n",
       "      <td>NaN</td>\n",
       "    </tr>\n",
       "    <tr>\n",
       "      <th>1</th>\n",
       "      <td>a3R2M000000VUwkUAG</td>\n",
       "      <td>0052M000008zLmjQAE</td>\n",
       "      <td>False</td>\n",
       "      <td>RP-692</td>\n",
       "      <td>2020-08-03T12:22:35.000+0000</td>\n",
       "      <td>00541000007VOCUAA4</td>\n",
       "      <td>2020-08-03T13:49:49.000+0000</td>\n",
       "      <td>0052M000008zLmjQAE</td>\n",
       "      <td>2020-08-03T13:49:49.000+0000</td>\n",
       "      <td>NaN</td>\n",
       "      <td>NaN</td>\n",
       "      <td>0062M00000ktyYUQAY</td>\n",
       "      <td>01t2M000008JOtKQAW</td>\n",
       "      <td>a1J2M00000Tc4kcUAB</td>\n",
       "      <td>NaN</td>\n",
       "      <td>a3V2M000000UJzAUAW</td>\n",
       "      <td>NaN</td>\n",
       "      <td>False</td>\n",
       "      <td>NaN</td>\n",
       "      <td>NaN</td>\n",
       "    </tr>\n",
       "    <tr>\n",
       "      <th>2</th>\n",
       "      <td>a3R2M000000VUwtUAG</td>\n",
       "      <td>0052M000008Pn2cQAC</td>\n",
       "      <td>False</td>\n",
       "      <td>RP-693</td>\n",
       "      <td>2020-08-03T14:46:45.000+0000</td>\n",
       "      <td>00541000007VOCUAA4</td>\n",
       "      <td>2020-08-03T15:33:26.000+0000</td>\n",
       "      <td>0052M000008Pn2cQAC</td>\n",
       "      <td>2020-08-03T15:33:26.000+0000</td>\n",
       "      <td>NaN</td>\n",
       "      <td>NaN</td>\n",
       "      <td>0062M00000ktyz2QAA</td>\n",
       "      <td>01t2M000008JOtJQAW</td>\n",
       "      <td>a1J2M00000Tc4sWUAR</td>\n",
       "      <td>NaN</td>\n",
       "      <td>a3V2M000000UJzjUAG</td>\n",
       "      <td>NaN</td>\n",
       "      <td>False</td>\n",
       "      <td>NaN</td>\n",
       "      <td>NaN</td>\n",
       "    </tr>\n",
       "    <tr>\n",
       "      <th>3</th>\n",
       "      <td>a3R2M000000VUwuUAG</td>\n",
       "      <td>0052M000008Pn2cQAC</td>\n",
       "      <td>False</td>\n",
       "      <td>RP-694</td>\n",
       "      <td>2020-08-03T14:46:45.000+0000</td>\n",
       "      <td>00541000007VOCUAA4</td>\n",
       "      <td>2020-08-03T15:33:26.000+0000</td>\n",
       "      <td>0052M000008Pn2cQAC</td>\n",
       "      <td>2020-08-03T15:33:26.000+0000</td>\n",
       "      <td>NaN</td>\n",
       "      <td>NaN</td>\n",
       "      <td>0062M00000ktyz2QAA</td>\n",
       "      <td>01t2M000008JOtKQAW</td>\n",
       "      <td>a1J2M00000Tc4sWUAR</td>\n",
       "      <td>NaN</td>\n",
       "      <td>a3V2M000000UJzjUAG</td>\n",
       "      <td>NaN</td>\n",
       "      <td>False</td>\n",
       "      <td>NaN</td>\n",
       "      <td>NaN</td>\n",
       "    </tr>\n",
       "    <tr>\n",
       "      <th>4</th>\n",
       "      <td>a3R2M000000VUwyUAG</td>\n",
       "      <td>0052M000008yKCRQA2</td>\n",
       "      <td>False</td>\n",
       "      <td>RP-695</td>\n",
       "      <td>2020-08-03T16:37:30.000+0000</td>\n",
       "      <td>00541000003qyb7AAA</td>\n",
       "      <td>2020-08-03T19:02:10.000+0000</td>\n",
       "      <td>0052M000008yKCRQA2</td>\n",
       "      <td>2020-08-03T19:02:10.000+0000</td>\n",
       "      <td>NaN</td>\n",
       "      <td>NaN</td>\n",
       "      <td>0062M00000ktzHfQAI</td>\n",
       "      <td>01t2M000008JOtKQAW</td>\n",
       "      <td>a1J2M00000Tc4vyUAB</td>\n",
       "      <td>NaN</td>\n",
       "      <td>a3V2M000000UK0SUAW</td>\n",
       "      <td>NaN</td>\n",
       "      <td>False</td>\n",
       "      <td>NaN</td>\n",
       "      <td>NaN</td>\n",
       "    </tr>\n",
       "  </tbody>\n",
       "</table>\n",
       "</div>"
      ],
      "text/plain": [
       "                   Id             OwnerId  IsDeleted    Name  \\\n",
       "0  a3R2M000000VUwjUAG  0052M000008zLmjQAE      False  RP-691   \n",
       "1  a3R2M000000VUwkUAG  0052M000008zLmjQAE      False  RP-692   \n",
       "2  a3R2M000000VUwtUAG  0052M000008Pn2cQAC      False  RP-693   \n",
       "3  a3R2M000000VUwuUAG  0052M000008Pn2cQAC      False  RP-694   \n",
       "4  a3R2M000000VUwyUAG  0052M000008yKCRQA2      False  RP-695   \n",
       "\n",
       "                    CreatedDate         CreatedById  \\\n",
       "0  2020-08-03T12:22:35.000+0000  00541000007VOCUAA4   \n",
       "1  2020-08-03T12:22:35.000+0000  00541000007VOCUAA4   \n",
       "2  2020-08-03T14:46:45.000+0000  00541000007VOCUAA4   \n",
       "3  2020-08-03T14:46:45.000+0000  00541000007VOCUAA4   \n",
       "4  2020-08-03T16:37:30.000+0000  00541000003qyb7AAA   \n",
       "\n",
       "               LastModifiedDate    LastModifiedById  \\\n",
       "0  2020-08-03T13:49:49.000+0000  0052M000008zLmjQAE   \n",
       "1  2020-08-03T13:49:49.000+0000  0052M000008zLmjQAE   \n",
       "2  2020-08-03T15:33:26.000+0000  0052M000008Pn2cQAC   \n",
       "3  2020-08-03T15:33:26.000+0000  0052M000008Pn2cQAC   \n",
       "4  2020-08-03T19:02:10.000+0000  0052M000008yKCRQA2   \n",
       "\n",
       "                 SystemModstamp  LastActivityDate Decision__c  \\\n",
       "0  2020-08-03T13:49:49.000+0000               NaN         NaN   \n",
       "1  2020-08-03T13:49:49.000+0000               NaN         NaN   \n",
       "2  2020-08-03T15:33:26.000+0000               NaN         NaN   \n",
       "3  2020-08-03T15:33:26.000+0000               NaN         NaN   \n",
       "4  2020-08-03T19:02:10.000+0000               NaN         NaN   \n",
       "\n",
       "       Opportunity__c          Product__c  Project_Request__c  \\\n",
       "0  0062M00000ktyYUQAY  01t2M000008JOtJQAW  a1J2M00000Tc4kcUAB   \n",
       "1  0062M00000ktyYUQAY  01t2M000008JOtKQAW  a1J2M00000Tc4kcUAB   \n",
       "2  0062M00000ktyz2QAA  01t2M000008JOtJQAW  a1J2M00000Tc4sWUAR   \n",
       "3  0062M00000ktyz2QAA  01t2M000008JOtKQAW  a1J2M00000Tc4sWUAR   \n",
       "4  0062M00000ktzHfQAI  01t2M000008JOtKQAW  a1J2M00000Tc4vyUAB   \n",
       "\n",
       "  Session_Product__c  Session_Request__c  Total_Price_Override__c  \\\n",
       "0                NaN  a3V2M000000UJzAUAW                      NaN   \n",
       "1                NaN  a3V2M000000UJzAUAW                      NaN   \n",
       "2                NaN  a3V2M000000UJzjUAG                      NaN   \n",
       "3                NaN  a3V2M000000UJzjUAG                      NaN   \n",
       "4                NaN  a3V2M000000UK0SUAW                      NaN   \n",
       "\n",
       "   Re_calculate_totals_on_session__c Status__c  Previous_Booked_Amount__c  \n",
       "0                              False       NaN                        NaN  \n",
       "1                              False       NaN                        NaN  \n",
       "2                              False       NaN                        NaN  \n",
       "3                              False       NaN                        NaN  \n",
       "4                              False       NaN                        NaN  "
      ]
     },
     "execution_count": 13,
     "metadata": {},
     "output_type": "execute_result"
    }
   ],
   "source": [
    "service_df.head()"
   ]
  },
  {
   "cell_type": "markdown",
   "metadata": {},
   "source": [
    "### Session Request <br />\n",
    "DB Name: SessionRequest_df <br />\n",
    "File Name: Session Request Table.csv <br />\n",
    "859 entries <br />"
   ]
  },
  {
   "cell_type": "code",
   "execution_count": 14,
   "metadata": {
    "scrolled": true
   },
   "outputs": [
    {
     "data": {
      "text/plain": [
       "Index(['Id', 'IsDeleted', 'Name', 'CreatedDate', 'CreatedById',\n",
       "       'LastModifiedDate', 'LastModifiedById', 'SystemModstamp',\n",
       "       'LastActivityDate', 'Project_Request__c', 'Confirmed_Start_Time__c',\n",
       "       'Country__c', 'Decision__c', 'Estimated_Date_Time__c', 'N__c',\n",
       "       'Opportunity__c', 'Platform_Type__c', 'Selected_Pricing_Option__c',\n",
       "       'Session_Length_Minutes__c', 'Session__c', 'Total_Price__c',\n",
       "       'Total_Cost__c'],\n",
       "      dtype='object')"
      ]
     },
     "execution_count": 14,
     "metadata": {},
     "output_type": "execute_result"
    }
   ],
   "source": [
    "SessionRequest_df.columns"
   ]
  },
  {
   "cell_type": "markdown",
   "metadata": {},
   "source": [
    "### Sessions <br />\n",
    "DB Name: session_cs_df <br />\n",
    "File Name: session__cs.csv <br />\n",
    "592 entries <br />"
   ]
  },
  {
   "cell_type": "code",
   "execution_count": 15,
   "metadata": {
    "scrolled": true
   },
   "outputs": [
    {
     "data": {
      "text/plain": [
       "Index(['Id', 'OwnerId', 'IsDeleted', 'Name', 'CreatedDate', 'CreatedById',\n",
       "       'LastModifiedDate', 'LastModifiedById', 'SystemModstamp', 'Start Month',\n",
       "       'Confirmed_Start_Time__c', 'Conversation__c', 'N__c', 'Notes__c',\n",
       "       'Platform__c', 'Project__c', 'Remesh_Conversation_Id__c',\n",
       "       'Session_Details__c', 'Session_Length_Minutes__c', 'Session_Request__c',\n",
       "       'Session_Title__c', 'Status__c', 'Use_Case_Bucket__c',\n",
       "       'Use_Case_Detail__c', 'Non_Traditional_Vendor_Used__c',\n",
       "       'Traditional_Vendor_Used__c', 'Session_Price__c', 'Session_Cost__c',\n",
       "       'Cancellation_Date__c', 'Country__c'],\n",
       "      dtype='object')"
      ]
     },
     "execution_count": 15,
     "metadata": {},
     "output_type": "execute_result"
    }
   ],
   "source": [
    "session_cs_df.columns"
   ]
  },
  {
   "cell_type": "markdown",
   "metadata": {},
   "source": [
    "### Session Products <br />\n",
    "DB Name: SessionProduct_df <br />\n",
    "File Name: session_product__cs.csv <br />\n",
    "3145 entries <br />"
   ]
  },
  {
   "cell_type": "code",
   "execution_count": 16,
   "metadata": {
    "scrolled": true
   },
   "outputs": [
    {
     "data": {
      "text/plain": [
       "Index(['Id', 'OwnerId', 'IsDeleted', 'Name', 'CreatedDate', 'CreatedById',\n",
       "       'LastModifiedDate', 'LastModifiedById', 'SystemModstamp',\n",
       "       'LastActivityDate', 'Notes__c', 'Order_Product__c', 'Product__c',\n",
       "       'Quantity__c', 'Remesh_Project__c', 'Service_Request__c', 'Session__c',\n",
       "       'Total_Price_Override__c', 'TEMP_Project_Product__c', 'Status__c'],\n",
       "      dtype='object')"
      ]
     },
     "execution_count": 16,
     "metadata": {},
     "output_type": "execute_result"
    }
   ],
   "source": [
    "SessionProduct_df.columns"
   ]
  },
  {
   "cell_type": "code",
   "execution_count": 17,
   "metadata": {},
   "outputs": [
    {
     "data": {
      "text/html": [
       "<div>\n",
       "<style scoped>\n",
       "    .dataframe tbody tr th:only-of-type {\n",
       "        vertical-align: middle;\n",
       "    }\n",
       "\n",
       "    .dataframe tbody tr th {\n",
       "        vertical-align: top;\n",
       "    }\n",
       "\n",
       "    .dataframe thead th {\n",
       "        text-align: right;\n",
       "    }\n",
       "</style>\n",
       "<table border=\"1\" class=\"dataframe\">\n",
       "  <thead>\n",
       "    <tr style=\"text-align: right;\">\n",
       "      <th></th>\n",
       "      <th>Id</th>\n",
       "      <th>OwnerId</th>\n",
       "      <th>IsDeleted</th>\n",
       "      <th>Name</th>\n",
       "      <th>CreatedDate</th>\n",
       "      <th>CreatedById</th>\n",
       "      <th>LastModifiedDate</th>\n",
       "      <th>LastModifiedById</th>\n",
       "      <th>SystemModstamp</th>\n",
       "      <th>LastActivityDate</th>\n",
       "      <th>Notes__c</th>\n",
       "      <th>Order_Product__c</th>\n",
       "      <th>Product__c</th>\n",
       "      <th>Quantity__c</th>\n",
       "      <th>Remesh_Project__c</th>\n",
       "      <th>Service_Request__c</th>\n",
       "      <th>Session__c</th>\n",
       "      <th>Total_Price_Override__c</th>\n",
       "      <th>TEMP_Project_Product__c</th>\n",
       "      <th>Status__c</th>\n",
       "    </tr>\n",
       "  </thead>\n",
       "  <tbody>\n",
       "    <tr>\n",
       "      <th>0</th>\n",
       "      <td>a3U2M000000V5qCUAS</td>\n",
       "      <td>0052M000008PvAJQA0</td>\n",
       "      <td>False</td>\n",
       "      <td>SP-4242</td>\n",
       "      <td>2020-08-03T13:16:18.000+0000</td>\n",
       "      <td>0052M000008PvAJQA0</td>\n",
       "      <td>2020-08-25T02:12:14.000+0000</td>\n",
       "      <td>0052M0000091zSnQAI</td>\n",
       "      <td>2020-09-17T19:37:54.000+0000</td>\n",
       "      <td>NaN</td>\n",
       "      <td>NaN</td>\n",
       "      <td>8022M00000E6fIKQAZ</td>\n",
       "      <td>01t2M000008JOuUQAW</td>\n",
       "      <td>1.0</td>\n",
       "      <td>a3P2M0000019UKVUA2</td>\n",
       "      <td>NaN</td>\n",
       "      <td>a3W2M000000W9YnUAK</td>\n",
       "      <td>0.0</td>\n",
       "      <td>NaN</td>\n",
       "      <td>NaN</td>\n",
       "    </tr>\n",
       "    <tr>\n",
       "      <th>1</th>\n",
       "      <td>a3U2M000000V5qMUAS</td>\n",
       "      <td>0052M000008PvAJQA0</td>\n",
       "      <td>False</td>\n",
       "      <td>SP-4243</td>\n",
       "      <td>2020-08-03T17:11:04.000+0000</td>\n",
       "      <td>0052M000008PvAJQA0</td>\n",
       "      <td>2020-08-11T16:43:03.000+0000</td>\n",
       "      <td>0052M0000091zSnQAI</td>\n",
       "      <td>2020-09-17T19:37:54.000+0000</td>\n",
       "      <td>NaN</td>\n",
       "      <td>NaN</td>\n",
       "      <td>8022M00000E6ZPVQA3</td>\n",
       "      <td>01t2M000008JOuUQAW</td>\n",
       "      <td>1.0</td>\n",
       "      <td>a3P2M000000tvUTUAY</td>\n",
       "      <td>NaN</td>\n",
       "      <td>a3W2M000000W9ZlUAK</td>\n",
       "      <td>0.0</td>\n",
       "      <td>NaN</td>\n",
       "      <td>NaN</td>\n",
       "    </tr>\n",
       "    <tr>\n",
       "      <th>2</th>\n",
       "      <td>a3U2M000000V5qRUAS</td>\n",
       "      <td>0054100000605WDAAY</td>\n",
       "      <td>False</td>\n",
       "      <td>SP-4244</td>\n",
       "      <td>2020-08-03T17:46:11.000+0000</td>\n",
       "      <td>0054100000605WDAAY</td>\n",
       "      <td>2020-08-27T21:20:35.000+0000</td>\n",
       "      <td>0052M0000091zSnQAI</td>\n",
       "      <td>2020-09-17T19:37:54.000+0000</td>\n",
       "      <td>NaN</td>\n",
       "      <td>NaN</td>\n",
       "      <td>8022M00000E6gJGQAZ</td>\n",
       "      <td>01t2M000008JOuUQAW</td>\n",
       "      <td>1.0</td>\n",
       "      <td>a3P2M0000019UONUA2</td>\n",
       "      <td>NaN</td>\n",
       "      <td>a3W2M000000W9a0UAC</td>\n",
       "      <td>NaN</td>\n",
       "      <td>NaN</td>\n",
       "      <td>NaN</td>\n",
       "    </tr>\n",
       "    <tr>\n",
       "      <th>3</th>\n",
       "      <td>a3U2M000000V5qWUAS</td>\n",
       "      <td>0054100000605WDAAY</td>\n",
       "      <td>False</td>\n",
       "      <td>SP-4245</td>\n",
       "      <td>2020-08-03T17:46:26.000+0000</td>\n",
       "      <td>0054100000605WDAAY</td>\n",
       "      <td>2020-08-28T19:00:19.000+0000</td>\n",
       "      <td>0052M0000091zSnQAI</td>\n",
       "      <td>2020-09-17T19:37:54.000+0000</td>\n",
       "      <td>NaN</td>\n",
       "      <td>NaN</td>\n",
       "      <td>8022M00000E6geRQAR</td>\n",
       "      <td>01t2M000008JOuUQAW</td>\n",
       "      <td>1.0</td>\n",
       "      <td>a3P2M0000019UOSUA2</td>\n",
       "      <td>NaN</td>\n",
       "      <td>a3W2M000000W9a5UAC</td>\n",
       "      <td>NaN</td>\n",
       "      <td>NaN</td>\n",
       "      <td>NaN</td>\n",
       "    </tr>\n",
       "    <tr>\n",
       "      <th>4</th>\n",
       "      <td>a3U2M000000V5qbUAC</td>\n",
       "      <td>0054100000605WDAAY</td>\n",
       "      <td>False</td>\n",
       "      <td>SP-4246</td>\n",
       "      <td>2020-08-03T17:46:42.000+0000</td>\n",
       "      <td>0054100000605WDAAY</td>\n",
       "      <td>2020-08-28T18:59:43.000+0000</td>\n",
       "      <td>0052M0000091zSnQAI</td>\n",
       "      <td>2020-09-17T19:37:54.000+0000</td>\n",
       "      <td>NaN</td>\n",
       "      <td>NaN</td>\n",
       "      <td>8022M00000E6geMQAR</td>\n",
       "      <td>01t2M000008JOuUQAW</td>\n",
       "      <td>1.0</td>\n",
       "      <td>a3P2M0000019UOXUA2</td>\n",
       "      <td>NaN</td>\n",
       "      <td>a3W2M000000W9aAUAS</td>\n",
       "      <td>NaN</td>\n",
       "      <td>NaN</td>\n",
       "      <td>NaN</td>\n",
       "    </tr>\n",
       "  </tbody>\n",
       "</table>\n",
       "</div>"
      ],
      "text/plain": [
       "                   Id             OwnerId  IsDeleted     Name  \\\n",
       "0  a3U2M000000V5qCUAS  0052M000008PvAJQA0      False  SP-4242   \n",
       "1  a3U2M000000V5qMUAS  0052M000008PvAJQA0      False  SP-4243   \n",
       "2  a3U2M000000V5qRUAS  0054100000605WDAAY      False  SP-4244   \n",
       "3  a3U2M000000V5qWUAS  0054100000605WDAAY      False  SP-4245   \n",
       "4  a3U2M000000V5qbUAC  0054100000605WDAAY      False  SP-4246   \n",
       "\n",
       "                    CreatedDate         CreatedById  \\\n",
       "0  2020-08-03T13:16:18.000+0000  0052M000008PvAJQA0   \n",
       "1  2020-08-03T17:11:04.000+0000  0052M000008PvAJQA0   \n",
       "2  2020-08-03T17:46:11.000+0000  0054100000605WDAAY   \n",
       "3  2020-08-03T17:46:26.000+0000  0054100000605WDAAY   \n",
       "4  2020-08-03T17:46:42.000+0000  0054100000605WDAAY   \n",
       "\n",
       "               LastModifiedDate    LastModifiedById  \\\n",
       "0  2020-08-25T02:12:14.000+0000  0052M0000091zSnQAI   \n",
       "1  2020-08-11T16:43:03.000+0000  0052M0000091zSnQAI   \n",
       "2  2020-08-27T21:20:35.000+0000  0052M0000091zSnQAI   \n",
       "3  2020-08-28T19:00:19.000+0000  0052M0000091zSnQAI   \n",
       "4  2020-08-28T18:59:43.000+0000  0052M0000091zSnQAI   \n",
       "\n",
       "                 SystemModstamp  LastActivityDate Notes__c  \\\n",
       "0  2020-09-17T19:37:54.000+0000               NaN      NaN   \n",
       "1  2020-09-17T19:37:54.000+0000               NaN      NaN   \n",
       "2  2020-09-17T19:37:54.000+0000               NaN      NaN   \n",
       "3  2020-09-17T19:37:54.000+0000               NaN      NaN   \n",
       "4  2020-09-17T19:37:54.000+0000               NaN      NaN   \n",
       "\n",
       "     Order_Product__c          Product__c  Quantity__c   Remesh_Project__c  \\\n",
       "0  8022M00000E6fIKQAZ  01t2M000008JOuUQAW          1.0  a3P2M0000019UKVUA2   \n",
       "1  8022M00000E6ZPVQA3  01t2M000008JOuUQAW          1.0  a3P2M000000tvUTUAY   \n",
       "2  8022M00000E6gJGQAZ  01t2M000008JOuUQAW          1.0  a3P2M0000019UONUA2   \n",
       "3  8022M00000E6geRQAR  01t2M000008JOuUQAW          1.0  a3P2M0000019UOSUA2   \n",
       "4  8022M00000E6geMQAR  01t2M000008JOuUQAW          1.0  a3P2M0000019UOXUA2   \n",
       "\n",
       "  Service_Request__c          Session__c  Total_Price_Override__c  \\\n",
       "0                NaN  a3W2M000000W9YnUAK                      0.0   \n",
       "1                NaN  a3W2M000000W9ZlUAK                      0.0   \n",
       "2                NaN  a3W2M000000W9a0UAC                      NaN   \n",
       "3                NaN  a3W2M000000W9a5UAC                      NaN   \n",
       "4                NaN  a3W2M000000W9aAUAS                      NaN   \n",
       "\n",
       "   TEMP_Project_Product__c Status__c  \n",
       "0                      NaN       NaN  \n",
       "1                      NaN       NaN  \n",
       "2                      NaN       NaN  \n",
       "3                      NaN       NaN  \n",
       "4                      NaN       NaN  "
      ]
     },
     "execution_count": 17,
     "metadata": {},
     "output_type": "execute_result"
    }
   ],
   "source": [
    "SessionProduct_df.head()"
   ]
  },
  {
   "cell_type": "code",
   "execution_count": 18,
   "metadata": {},
   "outputs": [
    {
     "data": {
      "text/plain": [
       "01t2M000008JOuUQAW    1896\n",
       "01t2M000008JOtKQAW     885\n",
       "01t2M000008JOuZQAW      82\n",
       "01t2M000005NAvEQAW      74\n",
       "01t2M000008JOuWQAW      54\n",
       "01t2M000008JOtHQAW      37\n",
       "01t2M000008JOtGQAW      34\n",
       "01t2M000008JOtIQAW      27\n",
       "01t2M000008JOtJQAW      17\n",
       "01t2M000008JOuaQAG      11\n",
       "01t2M000006SLUHQA4       7\n",
       "01t2M000008JOuPQAW       6\n",
       "01t2M00000CwiXOQAZ       4\n",
       "01t2M00000CwiXXQAZ       2\n",
       "01t2M000008JOtRQAW       2\n",
       "01t2M000008JOuQQAW       1\n",
       "01t2M000008JOuNQAW       1\n",
       "01t2M000005noo5QAA       1\n",
       "01t2M000008JOtFQAW       1\n",
       "01t4100000417pmAAA       1\n",
       "01t2M000008JOuMQAW       1\n",
       "Name: Product__c, dtype: int64"
      ]
     },
     "execution_count": 18,
     "metadata": {},
     "output_type": "execute_result"
    }
   ],
   "source": [
    "SessionProduct_df.Product__c.value_counts()"
   ]
  },
  {
   "cell_type": "markdown",
   "metadata": {},
   "source": [
    "## EDA"
   ]
  },
  {
   "cell_type": "code",
   "execution_count": 19,
   "metadata": {},
   "outputs": [
    {
     "data": {
      "text/html": [
       "<div>\n",
       "<style scoped>\n",
       "    .dataframe tbody tr th:only-of-type {\n",
       "        vertical-align: middle;\n",
       "    }\n",
       "\n",
       "    .dataframe tbody tr th {\n",
       "        vertical-align: top;\n",
       "    }\n",
       "\n",
       "    .dataframe thead th {\n",
       "        text-align: right;\n",
       "    }\n",
       "</style>\n",
       "<table border=\"1\" class=\"dataframe\">\n",
       "  <thead>\n",
       "    <tr style=\"text-align: right;\">\n",
       "      <th></th>\n",
       "      <th>Id</th>\n",
       "      <th>AccountId</th>\n",
       "      <th>Pricebook2Id</th>\n",
       "      <th>OwnerExpirationNotice</th>\n",
       "      <th>StartDate</th>\n",
       "      <th>EndDate</th>\n",
       "      <th>BillingStreet</th>\n",
       "      <th>BillingCity</th>\n",
       "      <th>BillingState</th>\n",
       "      <th>BillingPostalCode</th>\n",
       "      <th>...</th>\n",
       "      <th>Invoiced_In_Arrears_Balance_Amount__c</th>\n",
       "      <th>Originating_Opportunity__c</th>\n",
       "      <th>PO_Number__c</th>\n",
       "      <th>Payment_Frequency__c</th>\n",
       "      <th>Payment_Terms__c</th>\n",
       "      <th>Customer_Success_Rep__c</th>\n",
       "      <th>Billing_Contact__c</th>\n",
       "      <th>Logo__c</th>\n",
       "      <th>First_Conversation_Date__c</th>\n",
       "      <th>Last_Conversation_Date__c</th>\n",
       "    </tr>\n",
       "  </thead>\n",
       "  <tbody>\n",
       "    <tr>\n",
       "      <th>0</th>\n",
       "      <td>8002M000000Vrn9QAC</td>\n",
       "      <td>0014100000byjMrAAI</td>\n",
       "      <td>01s41000006ojbeAAA</td>\n",
       "      <td>NaN</td>\n",
       "      <td>2020-08-04</td>\n",
       "      <td>2020-10-03</td>\n",
       "      <td>NaN</td>\n",
       "      <td>NaN</td>\n",
       "      <td>NaN</td>\n",
       "      <td>NaN</td>\n",
       "      <td>...</td>\n",
       "      <td>NaN</td>\n",
       "      <td>0062M00000ku5usQAA</td>\n",
       "      <td>NaN</td>\n",
       "      <td>Custom / In Arrears</td>\n",
       "      <td>Net 45</td>\n",
       "      <td>0052M000008PvAJQA0</td>\n",
       "      <td>0032M00002ftK1SQAU</td>\n",
       "      <td>a0Y2M00000R48KgUAJ</td>\n",
       "      <td>2020-08-06</td>\n",
       "      <td>2020-08-18</td>\n",
       "    </tr>\n",
       "    <tr>\n",
       "      <th>1</th>\n",
       "      <td>8002M000000VrptQAC</td>\n",
       "      <td>0014100000bD20nAAC</td>\n",
       "      <td>01s41000006ojbeAAA</td>\n",
       "      <td>NaN</td>\n",
       "      <td>2020-08-06</td>\n",
       "      <td>2020-11-05</td>\n",
       "      <td>NaN</td>\n",
       "      <td>NaN</td>\n",
       "      <td>NaN</td>\n",
       "      <td>NaN</td>\n",
       "      <td>...</td>\n",
       "      <td>NaN</td>\n",
       "      <td>0062M00000jwUoPQAU</td>\n",
       "      <td>NaN</td>\n",
       "      <td>100% Upfront</td>\n",
       "      <td>Net 60</td>\n",
       "      <td>NaN</td>\n",
       "      <td>0034100002DqUdlAAF</td>\n",
       "      <td>a0Y2M00000R48G4UAJ</td>\n",
       "      <td>2020-08-14</td>\n",
       "      <td>2020-08-14</td>\n",
       "    </tr>\n",
       "    <tr>\n",
       "      <th>2</th>\n",
       "      <td>8002M000000VrqxQAC</td>\n",
       "      <td>0014100000GF56vAAD</td>\n",
       "      <td>01s41000006ojbeAAA</td>\n",
       "      <td>NaN</td>\n",
       "      <td>2020-08-05</td>\n",
       "      <td>2020-10-04</td>\n",
       "      <td>NaN</td>\n",
       "      <td>NaN</td>\n",
       "      <td>NaN</td>\n",
       "      <td>NaN</td>\n",
       "      <td>...</td>\n",
       "      <td>NaN</td>\n",
       "      <td>0062M00000ku2gLQAQ</td>\n",
       "      <td>NaN</td>\n",
       "      <td>Custom / In Arrears</td>\n",
       "      <td>Net 45</td>\n",
       "      <td>005410000060ULBAA2</td>\n",
       "      <td>0032M00002fDLn2QAG</td>\n",
       "      <td>a0Y2M00000R48KxUAJ</td>\n",
       "      <td>NaN</td>\n",
       "      <td>NaN</td>\n",
       "    </tr>\n",
       "    <tr>\n",
       "      <th>3</th>\n",
       "      <td>8002M000000VruGQAS</td>\n",
       "      <td>0014100000GF56vAAD</td>\n",
       "      <td>01s41000006ojbeAAA</td>\n",
       "      <td>NaN</td>\n",
       "      <td>2020-08-07</td>\n",
       "      <td>2020-10-06</td>\n",
       "      <td>NaN</td>\n",
       "      <td>NaN</td>\n",
       "      <td>NaN</td>\n",
       "      <td>NaN</td>\n",
       "      <td>...</td>\n",
       "      <td>NaN</td>\n",
       "      <td>0062M00000ku649QAA</td>\n",
       "      <td>NaN</td>\n",
       "      <td>Custom / In Arrears</td>\n",
       "      <td>Net 30</td>\n",
       "      <td>005410000060ULBAA2</td>\n",
       "      <td>0032M00002fDLn2QAG</td>\n",
       "      <td>a0Y2M00000R48KxUAJ</td>\n",
       "      <td>NaN</td>\n",
       "      <td>NaN</td>\n",
       "    </tr>\n",
       "    <tr>\n",
       "      <th>4</th>\n",
       "      <td>8002M000000VsWkQAK</td>\n",
       "      <td>0012M00002KRHt4QAH</td>\n",
       "      <td>01s41000006ojbeAAA</td>\n",
       "      <td>NaN</td>\n",
       "      <td>2020-08-14</td>\n",
       "      <td>2021-08-13</td>\n",
       "      <td>NaN</td>\n",
       "      <td>NaN</td>\n",
       "      <td>NaN</td>\n",
       "      <td>NaN</td>\n",
       "      <td>...</td>\n",
       "      <td>NaN</td>\n",
       "      <td>0062M00000jOGdNQAW</td>\n",
       "      <td>NaN</td>\n",
       "      <td>100% Upfront</td>\n",
       "      <td>Net 30</td>\n",
       "      <td>0052M000008zHZkQAM</td>\n",
       "      <td>0032M00002wbP4uQAE</td>\n",
       "      <td>a0Y2M00000R44TqUAJ</td>\n",
       "      <td>2020-09-02</td>\n",
       "      <td>2020-09-16</td>\n",
       "    </tr>\n",
       "  </tbody>\n",
       "</table>\n",
       "<p>5 rows × 61 columns</p>\n",
       "</div>"
      ],
      "text/plain": [
       "                   Id           AccountId        Pricebook2Id  \\\n",
       "0  8002M000000Vrn9QAC  0014100000byjMrAAI  01s41000006ojbeAAA   \n",
       "1  8002M000000VrptQAC  0014100000bD20nAAC  01s41000006ojbeAAA   \n",
       "2  8002M000000VrqxQAC  0014100000GF56vAAD  01s41000006ojbeAAA   \n",
       "3  8002M000000VruGQAS  0014100000GF56vAAD  01s41000006ojbeAAA   \n",
       "4  8002M000000VsWkQAK  0012M00002KRHt4QAH  01s41000006ojbeAAA   \n",
       "\n",
       "   OwnerExpirationNotice  StartDate     EndDate  BillingStreet  BillingCity  \\\n",
       "0                    NaN 2020-08-04  2020-10-03            NaN          NaN   \n",
       "1                    NaN 2020-08-06  2020-11-05            NaN          NaN   \n",
       "2                    NaN 2020-08-05  2020-10-04            NaN          NaN   \n",
       "3                    NaN 2020-08-07  2020-10-06            NaN          NaN   \n",
       "4                    NaN 2020-08-14  2021-08-13            NaN          NaN   \n",
       "\n",
       "   BillingState  BillingPostalCode  ... Invoiced_In_Arrears_Balance_Amount__c  \\\n",
       "0           NaN                NaN  ...                                   NaN   \n",
       "1           NaN                NaN  ...                                   NaN   \n",
       "2           NaN                NaN  ...                                   NaN   \n",
       "3           NaN                NaN  ...                                   NaN   \n",
       "4           NaN                NaN  ...                                   NaN   \n",
       "\n",
       "   Originating_Opportunity__c PO_Number__c  Payment_Frequency__c  \\\n",
       "0          0062M00000ku5usQAA          NaN   Custom / In Arrears   \n",
       "1          0062M00000jwUoPQAU          NaN          100% Upfront   \n",
       "2          0062M00000ku2gLQAQ          NaN   Custom / In Arrears   \n",
       "3          0062M00000ku649QAA          NaN   Custom / In Arrears   \n",
       "4          0062M00000jOGdNQAW          NaN          100% Upfront   \n",
       "\n",
       "   Payment_Terms__c  Customer_Success_Rep__c  Billing_Contact__c  \\\n",
       "0            Net 45       0052M000008PvAJQA0  0032M00002ftK1SQAU   \n",
       "1            Net 60                      NaN  0034100002DqUdlAAF   \n",
       "2            Net 45       005410000060ULBAA2  0032M00002fDLn2QAG   \n",
       "3            Net 30       005410000060ULBAA2  0032M00002fDLn2QAG   \n",
       "4            Net 30       0052M000008zHZkQAM  0032M00002wbP4uQAE   \n",
       "\n",
       "              Logo__c  First_Conversation_Date__c  Last_Conversation_Date__c  \n",
       "0  a0Y2M00000R48KgUAJ                  2020-08-06                 2020-08-18  \n",
       "1  a0Y2M00000R48G4UAJ                  2020-08-14                 2020-08-14  \n",
       "2  a0Y2M00000R48KxUAJ                         NaN                        NaN  \n",
       "3  a0Y2M00000R48KxUAJ                         NaN                        NaN  \n",
       "4  a0Y2M00000R44TqUAJ                  2020-09-02                 2020-09-16  \n",
       "\n",
       "[5 rows x 61 columns]"
      ]
     },
     "execution_count": 19,
     "metadata": {},
     "output_type": "execute_result"
    }
   ],
   "source": [
    "contracts_df.head()"
   ]
  },
  {
   "cell_type": "code",
   "execution_count": 20,
   "metadata": {},
   "outputs": [
    {
     "data": {
      "image/png": "[encoded data removed]",
      "text/plain": [
       "<Figure size 720x360 with 1 Axes>"
      ]
     },
     "metadata": {
      "needs_background": "light"
     },
     "output_type": "display_data"
    }
   ],
   "source": [
    "contracts_df.groupby(['StartDate'])['Id'].count().plot(kind='line',figsize = (10,5))\n",
    "plt.title(\"Contract ID Count\", size= 18)\n",
    "plt.show()"
   ]
  },
  {
   "cell_type": "code",
   "execution_count": 21,
   "metadata": {},
   "outputs": [
    {
     "data": {
      "text/plain": [
       "Text(0, 0.5, 'ID Count')"
      ]
     },
     "execution_count": 21,
     "metadata": {},
     "output_type": "execute_result"
    },
    {
     "data": {
      "image/png": "[encoded data removed]",
      "text/plain": [
       "<Figure size 576x360 with 1 Axes>"
      ]
     },
     "metadata": {
      "needs_background": "light"
     },
     "output_type": "display_data"
    }
   ],
   "source": [
    "(contracts_df.groupby([contracts_df['StartDate'].dt.weekday,\\\n",
    "                       contracts_df['StartDate'].dt.year])\\\n",
    " ['Id'].count()).unstack().plot(kind='line', figsize=(8,5))\n",
    "\n",
    "plt.legend(loc='center left', bbox_to_anchor=(1.1, .5), fontsize='x-small', frameon=False)\n",
    "plt.suptitle('ID Contract Counts', fontsize=16)\n",
    "plt.tick_params(labelsize = 12)\n",
    "plt.xlabel('Month', fontsize=12)\n",
    "plt.ylabel('ID Count', fontsize=12)"
   ]
  },
  {
   "cell_type": "code",
   "execution_count": 22,
   "metadata": {
    "scrolled": true
   },
   "outputs": [
    {
     "data": {
      "text/plain": [
       "<matplotlib.axes._subplots.AxesSubplot at 0x7fdeaaa06110>"
      ]
     },
     "execution_count": 22,
     "metadata": {},
     "output_type": "execute_result"
    },
    {
     "data": {
      "image/png": "[encoded data removed]",
      "text/plain": [
       "<Figure size 432x288 with 1 Axes>"
      ]
     },
     "metadata": {
      "needs_background": "light"
     },
     "output_type": "display_data"
    }
   ],
   "source": [
    "sns.heatmap(opps_df.isnull(), cbar=False)"
   ]
  },
  {
   "cell_type": "code",
   "execution_count": 59,
   "metadata": {},
   "outputs": [
    {
     "data": {
      "text/plain": [
       "<matplotlib.axes._subplots.AxesSubplot at 0x7fdeab5b1950>"
      ]
     },
     "execution_count": 59,
     "metadata": {},
     "output_type": "execute_result"
    },
    {
     "data": {
      "image/png": "[encoded data removed]",
      "text/plain": [
       "<Figure size 720x720 with 2 Axes>"
      ]
     },
     "metadata": {
      "needs_background": "light"
     },
     "output_type": "display_data"
    }
   ],
   "source": [
    "corrmat = opps_df[['StageName','Amount','FiscalQuarter','ExpectedRevenue','TotalOpportunityQuantity'\\\n",
    "             ]].corr()\n",
    "fig,ax= plt.subplots()\n",
    "fig.set_size_inches(10,10)\n",
    "sns.heatmap(corrmat,square=True,annot=True)"
   ]
  },
  {
   "cell_type": "markdown",
   "metadata": {},
   "source": [
    "# Objectives"
   ]
  },
  {
   "cell_type": "markdown",
   "metadata": {},
   "source": [
    "## Objective #1"
   ]
  },
  {
   "cell_type": "markdown",
   "metadata": {},
   "source": [
    "- Tell us the conversion rate of Pilot Opportunities to Annual Opportunities\n",
    "  - On the opportunity object, there is a unique id that connects pilots opportunities to annuals\n",
    "  - Annuals are defined as Type = Bulk\n",
    "  - Pilots and Annuals are related upon the pilot being won\n",
    "- What is the likelihood that an annual will be won when creating a pilot?\n",
    "- What is the likelihood that an annual will be won when winning a pilot?"
   ]
  },
  {
   "cell_type": "code",
   "execution_count": 24,
   "metadata": {},
   "outputs": [
    {
     "data": {
      "text/plain": [
       "False    579\n",
       "True     142\n",
       "Name: IsWon, dtype: int64"
      ]
     },
     "execution_count": 24,
     "metadata": {},
     "output_type": "execute_result"
    }
   ],
   "source": [
    "opps_df.IsWon.value_counts()"
   ]
  },
  {
   "cell_type": "code",
   "execution_count": 25,
   "metadata": {},
   "outputs": [
    {
     "data": {
      "text/plain": [
       "<matplotlib.axes._subplots.AxesSubplot at 0x7fdeab218350>"
      ]
     },
     "execution_count": 25,
     "metadata": {},
     "output_type": "execute_result"
    },
    {
     "data": {
      "image/png": "[encoded data removed]",
      "text/plain": [
       "<Figure size 432x288 with 1 Axes>"
      ]
     },
     "metadata": {
      "needs_background": "light"
     },
     "output_type": "display_data"
    }
   ],
   "source": [
    "sns.heatmap(opps_df.isnull(), cbar=False)"
   ]
  },
  {
   "cell_type": "code",
   "execution_count": 26,
   "metadata": {},
   "outputs": [
    {
     "data": {
      "text/plain": [
       "(721, 9)"
      ]
     },
     "execution_count": 26,
     "metadata": {},
     "output_type": "execute_result"
    }
   ],
   "source": [
    "#Make a copy of opps\n",
    "pilot_df = opps_df.copy()\n",
    "pilot_df = pilot_df[['Id','StageName','Amount', 'IsWon','Pilot__c','Annual_Opportunity__c',\\\n",
    "         'Deal_Type__c', 'Pilot_Opportunity__c','Is_Pilot__c']]\n",
    "\n",
    "#Rename Bulk\n",
    "pilot_df.loc[pilot_df['Deal_Type__c'] =='Bulk', 'Deal_Type__c']= 'Annual'\n",
    "pilot_df.shape"
   ]
  },
  {
   "cell_type": "code",
   "execution_count": 27,
   "metadata": {},
   "outputs": [
    {
     "data": {
      "text/plain": [
       "<matplotlib.axes._subplots.AxesSubplot at 0x7fdeab930a50>"
      ]
     },
     "execution_count": 27,
     "metadata": {},
     "output_type": "execute_result"
    },
    {
     "data": {
      "image/png": "[encoded data removed]",
      "text/plain": [
       "<Figure size 432x288 with 1 Axes>"
      ]
     },
     "metadata": {
      "needs_background": "light"
     },
     "output_type": "display_data"
    }
   ],
   "source": [
    "sns.heatmap(pilot_df.isnull(), cbar=False)"
   ]
  },
  {
   "cell_type": "code",
   "execution_count": 28,
   "metadata": {
    "scrolled": true
   },
   "outputs": [
    {
     "data": {
      "text/plain": [
       "Text(0, 0.5, 'Opportunity Count')"
      ]
     },
     "execution_count": 28,
     "metadata": {},
     "output_type": "execute_result"
    },
    {
     "data": {
      "image/png": "[encoded data removed]",
      "text/plain": [
       "<Figure size 432x288 with 1 Axes>"
      ]
     },
     "metadata": {
      "needs_background": "light"
     },
     "output_type": "display_data"
    }
   ],
   "source": [
    "ax = opps_df.boxplot('Amount')\n",
    "plt.title(\"Opportunity Amount Box Plot\", size= 12)\n",
    "# ax.set_xlabel(\"Amount (USD)\")\n",
    "ax.set_ylabel(\"Opportunity Count\")"
   ]
  },
  {
   "cell_type": "code",
   "execution_count": 29,
   "metadata": {},
   "outputs": [
    {
     "data": {
      "text/plain": [
       "Text(0, 0.5, 'Opportunity Count')"
      ]
     },
     "execution_count": 29,
     "metadata": {},
     "output_type": "execute_result"
    },
    {
     "data": {
      "image/png": "[encoded data removed]",
      "text/plain": [
       "<Figure size 288x288 with 1 Axes>"
      ]
     },
     "metadata": {
      "needs_background": "light"
     },
     "output_type": "display_data"
    }
   ],
   "source": [
    "ax=opps_df['Amount'].hist(bins=15,figsize=(4,4),range=[0,400000])\n",
    "plt.title(\"Opportunity Amount Histogram\", size= 12)\n",
    "ax.set_xlabel(\"Amount (USD)\")\n",
    "ax.set_ylabel(\"Opportunity Count\")"
   ]
  },
  {
   "cell_type": "code",
   "execution_count": 30,
   "metadata": {},
   "outputs": [
    {
     "data": {
      "text/plain": [
       "0062M00000jwMSgQAM    2\n",
       "0062M00000kurbkQAA    2\n",
       "0062M00000kv4SpQAI    1\n",
       "0062M00000jR7tDQAS    1\n",
       "0062M00000kcinCQAQ    1\n",
       "0062M00000kug3wQAA    1\n",
       "0062M00000kbzEtQAI    1\n",
       "0062M00000kuje4QAA    1\n",
       "0062M00000ilS6EQAU    1\n",
       "0062M00000jhDaIQAU    1\n",
       "0062M00000jwUoPQAU    1\n",
       "0062M00000kcVyHQAU    1\n",
       "0062M00000jhQSaQAM    1\n",
       "0062M00000iHqsfQAC    1\n",
       "0062M00000kceWnQAI    1\n",
       "0062M00000kvnAjQAI    1\n",
       "0062M00000kvHJlQAM    1\n",
       "0062M00000jitKIQAY    1\n",
       "0062M00000kv9AUQAY    1\n",
       "0062M00000kcRgLQAU    1\n",
       "0062M00000iI3BRQA0    1\n",
       "0062M00000kdff1QAA    1\n",
       "0062M00000kvGbPQAU    1\n",
       "0062M00000kvQDmQAM    1\n",
       "0062M00000jieRQQAY    1\n",
       "0062M00000kuBvgQAE    1\n",
       "0062M00000kdZu9QAE    1\n",
       "0062M00000kc9aBQAQ    1\n",
       "0062M00000kdgEVQAY    1\n",
       "0062M00000kc6z4QAA    1\n",
       "0062M00000iTTpQQAW    1\n",
       "0062M00000kcY7JQAU    1\n",
       "0062M00000j7PnsQAE    1\n",
       "0062M00000jRCjlQAG    1\n",
       "0062M00000iVOuAQAW    1\n",
       "Name: Pilot_Opportunity__c, dtype: int64"
      ]
     },
     "execution_count": 30,
     "metadata": {},
     "output_type": "execute_result"
    }
   ],
   "source": [
    "pilot_df.Pilot_Opportunity__c.value_counts()"
   ]
  },
  {
   "cell_type": "code",
   "execution_count": 31,
   "metadata": {},
   "outputs": [
    {
     "data": {
      "text/plain": [
       "Index(['Id', 'StageName', 'Amount', 'Pilot__c', 'Annual_Opportunity__c',\n",
       "       'Deal_Type__c', 'Pilot_Opportunity__c', 'Pilot_No', 'Pilot_Yes',\n",
       "       'Won_False', 'Won_True'],\n",
       "      dtype='object')"
      ]
     },
     "execution_count": 31,
     "metadata": {},
     "output_type": "execute_result"
    }
   ],
   "source": [
    "pilot_dummies = pd.get_dummies(pilot_df['Is_Pilot__c'], prefix='Pilot')\n",
    "win_dummies = pd.get_dummies(pilot_df['IsWon'], prefix='Won')\n",
    "pilot_df = pd.concat([pilot_df, pilot_dummies,win_dummies], axis=1)\n",
    "pilot_df.drop(columns = ['Is_Pilot__c','IsWon'], inplace = True)\n",
    "pilot_df.columns"
   ]
  },
  {
   "cell_type": "code",
   "execution_count": 32,
   "metadata": {},
   "outputs": [
    {
     "data": {
      "text/html": [
       "<div>\n",
       "<style scoped>\n",
       "    .dataframe tbody tr th:only-of-type {\n",
       "        vertical-align: middle;\n",
       "    }\n",
       "\n",
       "    .dataframe tbody tr th {\n",
       "        vertical-align: top;\n",
       "    }\n",
       "\n",
       "    .dataframe thead th {\n",
       "        text-align: right;\n",
       "    }\n",
       "</style>\n",
       "<table border=\"1\" class=\"dataframe\">\n",
       "  <thead>\n",
       "    <tr style=\"text-align: right;\">\n",
       "      <th></th>\n",
       "      <th>Pilot_No</th>\n",
       "      <th>Pilot_Yes</th>\n",
       "    </tr>\n",
       "    <tr>\n",
       "      <th>Deal_Type__c</th>\n",
       "      <th></th>\n",
       "      <th></th>\n",
       "    </tr>\n",
       "  </thead>\n",
       "  <tbody>\n",
       "    <tr>\n",
       "      <th>Annual</th>\n",
       "      <td>121</td>\n",
       "      <td>50.0</td>\n",
       "    </tr>\n",
       "    <tr>\n",
       "      <th>Transactional</th>\n",
       "      <td>219</td>\n",
       "      <td>330.0</td>\n",
       "    </tr>\n",
       "  </tbody>\n",
       "</table>\n",
       "</div>"
      ],
      "text/plain": [
       "               Pilot_No  Pilot_Yes\n",
       "Deal_Type__c                      \n",
       "Annual              121       50.0\n",
       "Transactional       219      330.0"
      ]
     },
     "execution_count": 32,
     "metadata": {},
     "output_type": "execute_result"
    }
   ],
   "source": [
    "pilot_deal=pilot_df.groupby([\"Deal_Type__c\"]).agg({\"Pilot_No\":'sum',\"Pilot_Yes\":'sum'})\n",
    "pilot_deal.head()"
   ]
  },
  {
   "cell_type": "code",
   "execution_count": 33,
   "metadata": {},
   "outputs": [
    {
     "data": {
      "text/html": [
       "<div>\n",
       "<style scoped>\n",
       "    .dataframe tbody tr th:only-of-type {\n",
       "        vertical-align: middle;\n",
       "    }\n",
       "\n",
       "    .dataframe tbody tr th {\n",
       "        vertical-align: top;\n",
       "    }\n",
       "\n",
       "    .dataframe thead th {\n",
       "        text-align: right;\n",
       "    }\n",
       "</style>\n",
       "<table border=\"1\" class=\"dataframe\">\n",
       "  <thead>\n",
       "    <tr style=\"text-align: right;\">\n",
       "      <th></th>\n",
       "      <th>Won_True</th>\n",
       "      <th>Won_False</th>\n",
       "    </tr>\n",
       "    <tr>\n",
       "      <th>Deal_Type__c</th>\n",
       "      <th></th>\n",
       "      <th></th>\n",
       "    </tr>\n",
       "  </thead>\n",
       "  <tbody>\n",
       "    <tr>\n",
       "      <th>Annual</th>\n",
       "      <td>46</td>\n",
       "      <td>125.0</td>\n",
       "    </tr>\n",
       "    <tr>\n",
       "      <th>Transactional</th>\n",
       "      <td>96</td>\n",
       "      <td>453.0</td>\n",
       "    </tr>\n",
       "  </tbody>\n",
       "</table>\n",
       "</div>"
      ],
      "text/plain": [
       "               Won_True  Won_False\n",
       "Deal_Type__c                      \n",
       "Annual               46      125.0\n",
       "Transactional        96      453.0"
      ]
     },
     "execution_count": 33,
     "metadata": {},
     "output_type": "execute_result"
    }
   ],
   "source": [
    "deal=pilot_df.groupby([\"Deal_Type__c\"]).agg({\"Won_True\":'sum',\"Won_False\":'sum'})\n",
    "deal.head()"
   ]
  },
  {
   "cell_type": "code",
   "execution_count": 34,
   "metadata": {},
   "outputs": [
    {
     "data": {
      "text/plain": [
       "(0, 11)"
      ]
     },
     "execution_count": 34,
     "metadata": {},
     "output_type": "execute_result"
    }
   ],
   "source": [
    "pay_dict = {'Transactional': np.nan}\n",
    "pilot_df['Deal_Type__c'].replace(pay_dict, inplace = True)\n",
    "pilot_df.dropna(inplace = True)\n",
    "pilot_df.shape"
   ]
  },
  {
   "cell_type": "code",
   "execution_count": 35,
   "metadata": {},
   "outputs": [
    {
     "data": {
      "text/html": [
       "<div>\n",
       "<style scoped>\n",
       "    .dataframe tbody tr th:only-of-type {\n",
       "        vertical-align: middle;\n",
       "    }\n",
       "\n",
       "    .dataframe tbody tr th {\n",
       "        vertical-align: top;\n",
       "    }\n",
       "\n",
       "    .dataframe thead th {\n",
       "        text-align: right;\n",
       "    }\n",
       "</style>\n",
       "<table border=\"1\" class=\"dataframe\">\n",
       "  <thead>\n",
       "    <tr style=\"text-align: right;\">\n",
       "      <th></th>\n",
       "      <th>Id</th>\n",
       "      <th>StageName</th>\n",
       "      <th>Amount</th>\n",
       "      <th>Pilot__c</th>\n",
       "      <th>Annual_Opportunity__c</th>\n",
       "      <th>Deal_Type__c</th>\n",
       "      <th>Pilot_Opportunity__c</th>\n",
       "      <th>Pilot_No</th>\n",
       "      <th>Pilot_Yes</th>\n",
       "      <th>Won_False</th>\n",
       "      <th>Won_True</th>\n",
       "    </tr>\n",
       "  </thead>\n",
       "  <tbody>\n",
       "  </tbody>\n",
       "</table>\n",
       "</div>"
      ],
      "text/plain": [
       "Empty DataFrame\n",
       "Columns: [Id, StageName, Amount, Pilot__c, Annual_Opportunity__c, Deal_Type__c, Pilot_Opportunity__c, Pilot_No, Pilot_Yes, Won_False, Won_True]\n",
       "Index: []"
      ]
     },
     "execution_count": 35,
     "metadata": {},
     "output_type": "execute_result"
    }
   ],
   "source": [
    "pilot_df.head()"
   ]
  },
  {
   "cell_type": "code",
   "execution_count": 36,
   "metadata": {},
   "outputs": [
    {
     "data": {
      "text/html": [
       "<div>\n",
       "<style scoped>\n",
       "    .dataframe tbody tr th:only-of-type {\n",
       "        vertical-align: middle;\n",
       "    }\n",
       "\n",
       "    .dataframe tbody tr th {\n",
       "        vertical-align: top;\n",
       "    }\n",
       "\n",
       "    .dataframe thead th {\n",
       "        text-align: right;\n",
       "    }\n",
       "</style>\n",
       "<table border=\"1\" class=\"dataframe\">\n",
       "  <thead>\n",
       "    <tr style=\"text-align: right;\">\n",
       "      <th></th>\n",
       "      <th>Pilot_Yes</th>\n",
       "      <th>Pilot_No</th>\n",
       "    </tr>\n",
       "    <tr>\n",
       "      <th>Won_True</th>\n",
       "      <th></th>\n",
       "      <th></th>\n",
       "    </tr>\n",
       "  </thead>\n",
       "  <tbody>\n",
       "  </tbody>\n",
       "</table>\n",
       "</div>"
      ],
      "text/plain": [
       "Empty DataFrame\n",
       "Columns: [Pilot_Yes, Pilot_No]\n",
       "Index: []"
      ]
     },
     "execution_count": 36,
     "metadata": {},
     "output_type": "execute_result"
    }
   ],
   "source": [
    "deal=pilot_df.groupby([\"Won_True\"]).agg({\"Pilot_Yes\":'sum',\"Pilot_No\":'sum'})\n",
    "deal.head()"
   ]
  },
  {
   "cell_type": "code",
   "execution_count": 37,
   "metadata": {},
   "outputs": [
    {
     "data": {
      "text/html": [
       "<div>\n",
       "<style scoped>\n",
       "    .dataframe tbody tr th:only-of-type {\n",
       "        vertical-align: middle;\n",
       "    }\n",
       "\n",
       "    .dataframe tbody tr th {\n",
       "        vertical-align: top;\n",
       "    }\n",
       "\n",
       "    .dataframe thead th {\n",
       "        text-align: right;\n",
       "    }\n",
       "</style>\n",
       "<table border=\"1\" class=\"dataframe\">\n",
       "  <thead>\n",
       "    <tr style=\"text-align: right;\">\n",
       "      <th></th>\n",
       "      <th>Id</th>\n",
       "      <th>StageName</th>\n",
       "      <th>Amount</th>\n",
       "      <th>Pilot__c</th>\n",
       "      <th>Annual_Opportunity__c</th>\n",
       "      <th>Deal_Type__c</th>\n",
       "      <th>Pilot_Opportunity__c</th>\n",
       "      <th>Pilot_No</th>\n",
       "      <th>Pilot_Yes</th>\n",
       "      <th>Won_False</th>\n",
       "      <th>Won_True</th>\n",
       "    </tr>\n",
       "  </thead>\n",
       "  <tbody>\n",
       "  </tbody>\n",
       "</table>\n",
       "</div>"
      ],
      "text/plain": [
       "Empty DataFrame\n",
       "Columns: [Id, StageName, Amount, Pilot__c, Annual_Opportunity__c, Deal_Type__c, Pilot_Opportunity__c, Pilot_No, Pilot_Yes, Won_False, Won_True]\n",
       "Index: []"
      ]
     },
     "execution_count": 37,
     "metadata": {},
     "output_type": "execute_result"
    }
   ],
   "source": [
    "pilot_df.head()"
   ]
  },
  {
   "cell_type": "markdown",
   "metadata": {},
   "source": [
    "## Objective #2"
   ]
  },
  {
   "cell_type": "markdown",
   "metadata": {},
   "source": [
    "- Of all the sessions requested how many are sold?\n",
    "  - All Opportunities have a Session Request and all Session Requests that are Accepted are associated with the Session Record\n",
    "- What requested Research Product is most likely to be sold? Explain how you came to that conclusion.\n",
    "  - Sessions have Service Requests Records related to them, these records are the Products that are being requested by the sales team and relate back to the Product in our Product Catalog."
   ]
  },
  {
   "cell_type": "code",
   "execution_count": 38,
   "metadata": {},
   "outputs": [
    {
     "data": {
      "text/plain": [
       "<bound method Series.isna of 0      2020-08-04T12:00:00.000+0000\n",
       "1      2020-08-05T01:00:00.000+0000\n",
       "2      2020-08-27T19:30:00.000+0000\n",
       "3      2020-08-27T15:00:00.000+0000\n",
       "4      2020-08-26T16:00:00.000+0000\n",
       "                   ...             \n",
       "587    2020-09-01T21:00:00.000+0000\n",
       "588    2020-09-10T21:00:00.000+0000\n",
       "589    2020-09-03T15:00:00.000+0000\n",
       "590    2020-08-11T23:00:00.000+0000\n",
       "591    2020-08-14T23:00:00.000+0000\n",
       "Name: Confirmed_Start_Time__c, Length: 592, dtype: object>"
      ]
     },
     "execution_count": 38,
     "metadata": {},
     "output_type": "execute_result"
    }
   ],
   "source": [
    "session_cs_df.Confirmed_Start_Time__c.isna"
   ]
  },
  {
   "cell_type": "code",
   "execution_count": 39,
   "metadata": {},
   "outputs": [
    {
     "data": {
      "text/plain": [
       "0.689173457508731"
      ]
     },
     "execution_count": 39,
     "metadata": {},
     "output_type": "execute_result"
    }
   ],
   "source": [
    "sold = 592/859\n",
    "sold"
   ]
  },
  {
   "cell_type": "code",
   "execution_count": 40,
   "metadata": {},
   "outputs": [
    {
     "data": {
      "text/plain": [
       "(592, 49)"
      ]
     },
     "execution_count": 40,
     "metadata": {},
     "output_type": "execute_result"
    }
   ],
   "source": [
    "# Merge csv documents\n",
    "\n",
    "sdb = session_cs_df.merge(service_df,how='left',on='Id')\n",
    "sdb.shape"
   ]
  },
  {
   "cell_type": "code",
   "execution_count": 41,
   "metadata": {},
   "outputs": [
    {
     "data": {
      "text/plain": [
       "01t2M000008JOtKQAW    714\n",
       "01t2M000008JOuUQAW    252\n",
       "01t2M000008JOtIQAW    112\n",
       "01t2M000008JOtHQAW     78\n",
       "01t2M000008JOuWQAW     55\n",
       "01t2M00000CwiXOQAZ     43\n",
       "01t2M000008JOtGQAW     37\n",
       "01t2M000008JOuaQAG     33\n",
       "01t2M000008JOuPQAW     31\n",
       "01t2M000008JOtJQAW     20\n",
       "01t2M000008JOuZQAW      8\n",
       "01t2M00000CwiXXQAZ      6\n",
       "01t2M000008JOuQQAW      6\n",
       "01t2M000008JOuRQAW      4\n",
       "01t2M000008JOtRQAW      3\n",
       "01t2M00000CwiXDQAZ      2\n",
       "01t2M000008JOuNQAW      2\n",
       "01t2M000008JOtFQAW      1\n",
       "01t2M000006SLUHQA4      1\n",
       "01t2M000008JOuMQAW      1\n",
       "01t2M000008JOuLQAW      1\n",
       "Name: Product__c, dtype: int64"
      ]
     },
     "execution_count": 41,
     "metadata": {},
     "output_type": "execute_result"
    }
   ],
   "source": [
    "service_df.Product__c.value_counts()"
   ]
  },
  {
   "cell_type": "code",
   "execution_count": 42,
   "metadata": {},
   "outputs": [
    {
     "data": {
      "text/html": [
       "<div>\n",
       "<style scoped>\n",
       "    .dataframe tbody tr th:only-of-type {\n",
       "        vertical-align: middle;\n",
       "    }\n",
       "\n",
       "    .dataframe tbody tr th {\n",
       "        vertical-align: top;\n",
       "    }\n",
       "\n",
       "    .dataframe thead th {\n",
       "        text-align: right;\n",
       "    }\n",
       "</style>\n",
       "<table border=\"1\" class=\"dataframe\">\n",
       "  <thead>\n",
       "    <tr style=\"text-align: right;\">\n",
       "      <th></th>\n",
       "      <th>Product Name</th>\n",
       "      <th>Active (Product)</th>\n",
       "      <th>Product__c</th>\n",
       "      <th>Product Description</th>\n",
       "      <th>Product Code</th>\n",
       "      <th>Product Type</th>\n",
       "      <th>Product Family</th>\n",
       "      <th>Sub-Family</th>\n",
       "    </tr>\n",
       "  </thead>\n",
       "  <tbody>\n",
       "    <tr>\n",
       "      <th>17</th>\n",
       "      <td>Discussion Guide, Moderation, Comprehensive Re...</td>\n",
       "      <td>1</td>\n",
       "      <td>01t2M000008JOtIQAW</td>\n",
       "      <td>Discussion Guide, Moderation, Comprehensive Re...</td>\n",
       "      <td>NaN</td>\n",
       "      <td>Revenue</td>\n",
       "      <td>Service</td>\n",
       "      <td>Research</td>\n",
       "    </tr>\n",
       "  </tbody>\n",
       "</table>\n",
       "</div>"
      ],
      "text/plain": [
       "                                         Product Name  Active (Product)  \\\n",
       "17  Discussion Guide, Moderation, Comprehensive Re...                 1   \n",
       "\n",
       "            Product__c                                Product Description  \\\n",
       "17  01t2M000008JOtIQAW  Discussion Guide, Moderation, Comprehensive Re...   \n",
       "\n",
       "   Product Code Product Type Product Family Sub-Family  \n",
       "17          NaN      Revenue        Service   Research  "
      ]
     },
     "execution_count": 42,
     "metadata": {},
     "output_type": "execute_result"
    }
   ],
   "source": [
    "product_df.loc[product_df['Product__c']=='01t2M000008JOtIQAW']"
   ]
  },
  {
   "cell_type": "markdown",
   "metadata": {},
   "source": [
    "### Product Merge"
   ]
  },
  {
   "cell_type": "code",
   "execution_count": 43,
   "metadata": {},
   "outputs": [],
   "source": [
    "#Make a copy of opps\n",
    "sdb2 = sdb.copy()\n",
    "sdb2 = sdb2[['Product__c','Confirmed_Start_Time__c','Session_Length_Minutes__c','Session_Cost__c']]"
   ]
  },
  {
   "cell_type": "code",
   "execution_count": 44,
   "metadata": {},
   "outputs": [],
   "source": [
    "sdb2['Product__c']=sdb2['Product__c'].astype(str)\n",
    "product2_df['Product__c']=product2_df['Product__c'].astype(str)\n",
    "product2_df['Product Name']=product2_df['Product Name'].astype(str)"
   ]
  },
  {
   "cell_type": "code",
   "execution_count": 45,
   "metadata": {},
   "outputs": [
    {
     "data": {
      "text/plain": [
       "(592, 5)"
      ]
     },
     "execution_count": 45,
     "metadata": {},
     "output_type": "execute_result"
    }
   ],
   "source": [
    "session = sdb2.merge(product2_df, how='left', on='Product__c')\n",
    "session.shape"
   ]
  },
  {
   "cell_type": "code",
   "execution_count": 46,
   "metadata": {
    "scrolled": true
   },
   "outputs": [
    {
     "data": {
      "text/plain": [
       "<matplotlib.axes._subplots.AxesSubplot at 0x7fdeab5d1790>"
      ]
     },
     "execution_count": 46,
     "metadata": {},
     "output_type": "execute_result"
    },
    {
     "data": {
      "image/png": "[encoded data removed]",
      "text/plain": [
       "<Figure size 432x288 with 1 Axes>"
      ]
     },
     "metadata": {
      "needs_background": "light"
     },
     "output_type": "display_data"
    }
   ],
   "source": [
    "sns.heatmap(session.isnull(), cbar=False)"
   ]
  },
  {
   "cell_type": "code",
   "execution_count": 47,
   "metadata": {},
   "outputs": [
    {
     "data": {
      "text/html": [
       "<div>\n",
       "<style scoped>\n",
       "    .dataframe tbody tr th:only-of-type {\n",
       "        vertical-align: middle;\n",
       "    }\n",
       "\n",
       "    .dataframe tbody tr th {\n",
       "        vertical-align: top;\n",
       "    }\n",
       "\n",
       "    .dataframe thead th {\n",
       "        text-align: right;\n",
       "    }\n",
       "</style>\n",
       "<table border=\"1\" class=\"dataframe\">\n",
       "  <thead>\n",
       "    <tr style=\"text-align: right;\">\n",
       "      <th></th>\n",
       "      <th>Product__c</th>\n",
       "      <th>Confirmed_Start_Time__c</th>\n",
       "      <th>Session_Length_Minutes__c</th>\n",
       "      <th>Session_Cost__c</th>\n",
       "      <th>Product Name</th>\n",
       "    </tr>\n",
       "  </thead>\n",
       "  <tbody>\n",
       "    <tr>\n",
       "      <th>0</th>\n",
       "      <td>nan</td>\n",
       "      <td>2020-08-04T12:00:00.000+0000</td>\n",
       "      <td>NaN</td>\n",
       "      <td>0.0</td>\n",
       "      <td>NaN</td>\n",
       "    </tr>\n",
       "    <tr>\n",
       "      <th>1</th>\n",
       "      <td>nan</td>\n",
       "      <td>2020-08-05T01:00:00.000+0000</td>\n",
       "      <td>NaN</td>\n",
       "      <td>4950.0</td>\n",
       "      <td>NaN</td>\n",
       "    </tr>\n",
       "    <tr>\n",
       "      <th>2</th>\n",
       "      <td>nan</td>\n",
       "      <td>2020-08-27T19:30:00.000+0000</td>\n",
       "      <td>NaN</td>\n",
       "      <td>0.0</td>\n",
       "      <td>NaN</td>\n",
       "    </tr>\n",
       "    <tr>\n",
       "      <th>3</th>\n",
       "      <td>nan</td>\n",
       "      <td>2020-08-27T15:00:00.000+0000</td>\n",
       "      <td>NaN</td>\n",
       "      <td>0.0</td>\n",
       "      <td>NaN</td>\n",
       "    </tr>\n",
       "    <tr>\n",
       "      <th>4</th>\n",
       "      <td>nan</td>\n",
       "      <td>2020-08-26T16:00:00.000+0000</td>\n",
       "      <td>NaN</td>\n",
       "      <td>0.0</td>\n",
       "      <td>NaN</td>\n",
       "    </tr>\n",
       "  </tbody>\n",
       "</table>\n",
       "</div>"
      ],
      "text/plain": [
       "  Product__c       Confirmed_Start_Time__c Session_Length_Minutes__c  \\\n",
       "0        nan  2020-08-04T12:00:00.000+0000                       NaN   \n",
       "1        nan  2020-08-05T01:00:00.000+0000                       NaN   \n",
       "2        nan  2020-08-27T19:30:00.000+0000                       NaN   \n",
       "3        nan  2020-08-27T15:00:00.000+0000                       NaN   \n",
       "4        nan  2020-08-26T16:00:00.000+0000                       NaN   \n",
       "\n",
       "   Session_Cost__c Product Name  \n",
       "0              0.0          NaN  \n",
       "1           4950.0          NaN  \n",
       "2              0.0          NaN  \n",
       "3              0.0          NaN  \n",
       "4              0.0          NaN  "
      ]
     },
     "execution_count": 47,
     "metadata": {},
     "output_type": "execute_result"
    }
   ],
   "source": [
    "session.head()"
   ]
  },
  {
   "cell_type": "code",
   "execution_count": 48,
   "metadata": {},
   "outputs": [
    {
     "data": {
      "text/plain": [
       "Series([], Name: Product Name, dtype: int64)"
      ]
     },
     "execution_count": 48,
     "metadata": {},
     "output_type": "execute_result"
    }
   ],
   "source": [
    "session['Product Name'].value_counts()"
   ]
  },
  {
   "cell_type": "code",
   "execution_count": null,
   "metadata": {},
   "outputs": [],
   "source": []
  },
  {
   "cell_type": "markdown",
   "metadata": {},
   "source": [
    "## Objective #3"
   ]
  },
  {
   "cell_type": "markdown",
   "metadata": {},
   "source": [
    "What is the average Booking value of Opportunities with sessions sold since July?"
   ]
  },
  {
   "cell_type": "code",
   "execution_count": 49,
   "metadata": {},
   "outputs": [
    {
     "data": {
      "text/html": [
       "<div>\n",
       "<style scoped>\n",
       "    .dataframe tbody tr th:only-of-type {\n",
       "        vertical-align: middle;\n",
       "    }\n",
       "\n",
       "    .dataframe tbody tr th {\n",
       "        vertical-align: top;\n",
       "    }\n",
       "\n",
       "    .dataframe thead th {\n",
       "        text-align: right;\n",
       "    }\n",
       "</style>\n",
       "<table border=\"1\" class=\"dataframe\">\n",
       "  <thead>\n",
       "    <tr style=\"text-align: right;\">\n",
       "      <th></th>\n",
       "      <th>Id</th>\n",
       "      <th>StageName</th>\n",
       "      <th>Amount</th>\n",
       "      <th>IsWon</th>\n",
       "      <th>Confirmed_Session_Date_Time__c</th>\n",
       "      <th>Budget_Confirmed__c</th>\n",
       "    </tr>\n",
       "  </thead>\n",
       "  <tbody>\n",
       "    <tr>\n",
       "      <th>0</th>\n",
       "      <td>0062M00000kbwE9QAI</td>\n",
       "      <td>Demo</td>\n",
       "      <td>35000.0</td>\n",
       "      <td>False</td>\n",
       "      <td>NaN</td>\n",
       "      <td>False</td>\n",
       "    </tr>\n",
       "    <tr>\n",
       "      <th>1</th>\n",
       "      <td>0062M00000kbwPbQAI</td>\n",
       "      <td>Closed Won</td>\n",
       "      <td>74500.0</td>\n",
       "      <td>True</td>\n",
       "      <td>NaN</td>\n",
       "      <td>False</td>\n",
       "    </tr>\n",
       "    <tr>\n",
       "      <th>2</th>\n",
       "      <td>0062M00000kbwbXQAQ</td>\n",
       "      <td>Closed Lost</td>\n",
       "      <td>9150.0</td>\n",
       "      <td>False</td>\n",
       "      <td>2020-07-09T16:00:00.000+0000</td>\n",
       "      <td>False</td>\n",
       "    </tr>\n",
       "    <tr>\n",
       "      <th>3</th>\n",
       "      <td>0062M00000kbwdYQAQ</td>\n",
       "      <td>Closed Lost</td>\n",
       "      <td>234500.0</td>\n",
       "      <td>False</td>\n",
       "      <td>NaN</td>\n",
       "      <td>False</td>\n",
       "    </tr>\n",
       "    <tr>\n",
       "      <th>4</th>\n",
       "      <td>0062M00000kbwv8QAA</td>\n",
       "      <td>Closed Lost</td>\n",
       "      <td>7090.0</td>\n",
       "      <td>False</td>\n",
       "      <td>2020-07-14T23:00:00.000+0000</td>\n",
       "      <td>False</td>\n",
       "    </tr>\n",
       "    <tr>\n",
       "      <th>...</th>\n",
       "      <td>...</td>\n",
       "      <td>...</td>\n",
       "      <td>...</td>\n",
       "      <td>...</td>\n",
       "      <td>...</td>\n",
       "      <td>...</td>\n",
       "    </tr>\n",
       "    <tr>\n",
       "      <th>716</th>\n",
       "      <td>0062M00000kw8LVQAY</td>\n",
       "      <td>Recommendation</td>\n",
       "      <td>NaN</td>\n",
       "      <td>False</td>\n",
       "      <td>NaN</td>\n",
       "      <td>False</td>\n",
       "    </tr>\n",
       "    <tr>\n",
       "      <th>717</th>\n",
       "      <td>0062M00000kw8lvQAA</td>\n",
       "      <td>Recommendation</td>\n",
       "      <td>3500.0</td>\n",
       "      <td>False</td>\n",
       "      <td>NaN</td>\n",
       "      <td>False</td>\n",
       "    </tr>\n",
       "    <tr>\n",
       "      <th>718</th>\n",
       "      <td>0062M00000kw8mtQAA</td>\n",
       "      <td>Discovery</td>\n",
       "      <td>3500.0</td>\n",
       "      <td>False</td>\n",
       "      <td>NaN</td>\n",
       "      <td>False</td>\n",
       "    </tr>\n",
       "    <tr>\n",
       "      <th>719</th>\n",
       "      <td>0062M00000kw9SvQAI</td>\n",
       "      <td>Discovery</td>\n",
       "      <td>3500.0</td>\n",
       "      <td>False</td>\n",
       "      <td>NaN</td>\n",
       "      <td>False</td>\n",
       "    </tr>\n",
       "    <tr>\n",
       "      <th>720</th>\n",
       "      <td>0062M00000kw9mHQAQ</td>\n",
       "      <td>Closed Won</td>\n",
       "      <td>-14000.0</td>\n",
       "      <td>True</td>\n",
       "      <td>NaN</td>\n",
       "      <td>False</td>\n",
       "    </tr>\n",
       "  </tbody>\n",
       "</table>\n",
       "<p>721 rows × 6 columns</p>\n",
       "</div>"
      ],
      "text/plain": [
       "                     Id       StageName    Amount  IsWon  \\\n",
       "0    0062M00000kbwE9QAI            Demo   35000.0  False   \n",
       "1    0062M00000kbwPbQAI      Closed Won   74500.0   True   \n",
       "2    0062M00000kbwbXQAQ     Closed Lost    9150.0  False   \n",
       "3    0062M00000kbwdYQAQ     Closed Lost  234500.0  False   \n",
       "4    0062M00000kbwv8QAA     Closed Lost    7090.0  False   \n",
       "..                  ...             ...       ...    ...   \n",
       "716  0062M00000kw8LVQAY  Recommendation       NaN  False   \n",
       "717  0062M00000kw8lvQAA  Recommendation    3500.0  False   \n",
       "718  0062M00000kw8mtQAA       Discovery    3500.0  False   \n",
       "719  0062M00000kw9SvQAI       Discovery    3500.0  False   \n",
       "720  0062M00000kw9mHQAQ      Closed Won  -14000.0   True   \n",
       "\n",
       "    Confirmed_Session_Date_Time__c  Budget_Confirmed__c  \n",
       "0                              NaN                False  \n",
       "1                              NaN                False  \n",
       "2     2020-07-09T16:00:00.000+0000                False  \n",
       "3                              NaN                False  \n",
       "4     2020-07-14T23:00:00.000+0000                False  \n",
       "..                             ...                  ...  \n",
       "716                            NaN                False  \n",
       "717                            NaN                False  \n",
       "718                            NaN                False  \n",
       "719                            NaN                False  \n",
       "720                            NaN                False  \n",
       "\n",
       "[721 rows x 6 columns]"
      ]
     },
     "execution_count": 49,
     "metadata": {},
     "output_type": "execute_result"
    }
   ],
   "source": [
    "book_df = opps_df.copy()\n",
    "\n",
    "book_df = book_df[['Id','StageName','Amount', 'IsWon',\\\n",
    "'Confirmed_Session_Date_Time__c','Budget_Confirmed__c']]\n",
    "\n",
    "book_df"
   ]
  },
  {
   "cell_type": "code",
   "execution_count": 50,
   "metadata": {
    "scrolled": true
   },
   "outputs": [
    {
     "data": {
      "text/plain": [
       "(10, 6)"
      ]
     },
     "execution_count": 50,
     "metadata": {},
     "output_type": "execute_result"
    }
   ],
   "source": [
    "# Remove null values in Confirmed_Session_Date_Time__c\n",
    "\n",
    "zero_dict = {0: np.nan}\n",
    "book_df['Confirmed_Session_Date_Time__c'].replace(zero_dict, inplace = True)\n",
    "book_df.dropna(inplace = True)\n",
    "book_df.shape"
   ]
  },
  {
   "cell_type": "code",
   "execution_count": 51,
   "metadata": {},
   "outputs": [
    {
     "data": {
      "text/plain": [
       "StageName\n",
       "False    10598.33\n",
       "True     13487.50\n",
       "Name: Amount, dtype: float64"
      ]
     },
     "execution_count": 51,
     "metadata": {},
     "output_type": "execute_result"
    }
   ],
   "source": [
    "book_df.groupby([book_df.StageName == 'Closed Won'])['Amount'].mean().round(2)"
   ]
  },
  {
   "cell_type": "code",
   "execution_count": 52,
   "metadata": {},
   "outputs": [
    {
     "data": {
      "text/html": [
       "<div>\n",
       "<style scoped>\n",
       "    .dataframe tbody tr th:only-of-type {\n",
       "        vertical-align: middle;\n",
       "    }\n",
       "\n",
       "    .dataframe tbody tr th {\n",
       "        vertical-align: top;\n",
       "    }\n",
       "\n",
       "    .dataframe thead th {\n",
       "        text-align: right;\n",
       "    }\n",
       "</style>\n",
       "<table border=\"1\" class=\"dataframe\">\n",
       "  <thead>\n",
       "    <tr style=\"text-align: right;\">\n",
       "      <th></th>\n",
       "      <th>Id</th>\n",
       "      <th>StageName</th>\n",
       "      <th>Amount</th>\n",
       "      <th>IsWon</th>\n",
       "      <th>Confirmed_Session_Date_Time__c</th>\n",
       "      <th>Budget_Confirmed__c</th>\n",
       "    </tr>\n",
       "  </thead>\n",
       "  <tbody>\n",
       "    <tr>\n",
       "      <th>2</th>\n",
       "      <td>0062M00000kbwbXQAQ</td>\n",
       "      <td>Closed Lost</td>\n",
       "      <td>9150.0</td>\n",
       "      <td>False</td>\n",
       "      <td>2020-07-09T16:00:00.000+0000</td>\n",
       "      <td>False</td>\n",
       "    </tr>\n",
       "    <tr>\n",
       "      <th>4</th>\n",
       "      <td>0062M00000kbwv8QAA</td>\n",
       "      <td>Closed Lost</td>\n",
       "      <td>7090.0</td>\n",
       "      <td>False</td>\n",
       "      <td>2020-07-14T23:00:00.000+0000</td>\n",
       "      <td>False</td>\n",
       "    </tr>\n",
       "    <tr>\n",
       "      <th>19</th>\n",
       "      <td>0062M00000kc2WUQAY</td>\n",
       "      <td>Closed Lost</td>\n",
       "      <td>10000.0</td>\n",
       "      <td>False</td>\n",
       "      <td>2020-08-03T19:00:00.000+0000</td>\n",
       "      <td>False</td>\n",
       "    </tr>\n",
       "    <tr>\n",
       "      <th>20</th>\n",
       "      <td>0062M00000kc44SQAQ</td>\n",
       "      <td>Closed Won</td>\n",
       "      <td>10600.0</td>\n",
       "      <td>True</td>\n",
       "      <td>2020-08-04T19:00:00.000+0000</td>\n",
       "      <td>False</td>\n",
       "    </tr>\n",
       "    <tr>\n",
       "      <th>22</th>\n",
       "      <td>0062M00000kc51NQAQ</td>\n",
       "      <td>Closed Won</td>\n",
       "      <td>10000.0</td>\n",
       "      <td>True</td>\n",
       "      <td>2020-07-21T23:00:00.000+0000</td>\n",
       "      <td>False</td>\n",
       "    </tr>\n",
       "    <tr>\n",
       "      <th>24</th>\n",
       "      <td>0062M00000kc6E3QAI</td>\n",
       "      <td>Closed Won</td>\n",
       "      <td>10500.0</td>\n",
       "      <td>True</td>\n",
       "      <td>2020-07-13T20:00:00.000+0000</td>\n",
       "      <td>False</td>\n",
       "    </tr>\n",
       "    <tr>\n",
       "      <th>47</th>\n",
       "      <td>0062M00000kcCkqQAE</td>\n",
       "      <td>Closed Lost</td>\n",
       "      <td>12000.0</td>\n",
       "      <td>False</td>\n",
       "      <td>2020-07-14T02:00:00.000+0000</td>\n",
       "      <td>False</td>\n",
       "    </tr>\n",
       "    <tr>\n",
       "      <th>54</th>\n",
       "      <td>0062M00000kcF70QAE</td>\n",
       "      <td>Closed Won</td>\n",
       "      <td>22850.0</td>\n",
       "      <td>True</td>\n",
       "      <td>2020-07-17T00:00:00.000+0000</td>\n",
       "      <td>False</td>\n",
       "    </tr>\n",
       "    <tr>\n",
       "      <th>62</th>\n",
       "      <td>0062M00000kcHIrQAM</td>\n",
       "      <td>Closed Lost</td>\n",
       "      <td>10350.0</td>\n",
       "      <td>False</td>\n",
       "      <td>2020-08-20T16:00:00.000+0000</td>\n",
       "      <td>False</td>\n",
       "    </tr>\n",
       "    <tr>\n",
       "      <th>64</th>\n",
       "      <td>0062M00000kcHmrQAE</td>\n",
       "      <td>Closed Lost</td>\n",
       "      <td>15000.0</td>\n",
       "      <td>False</td>\n",
       "      <td>2020-08-04T19:00:00.000+0000</td>\n",
       "      <td>False</td>\n",
       "    </tr>\n",
       "  </tbody>\n",
       "</table>\n",
       "</div>"
      ],
      "text/plain": [
       "                    Id    StageName   Amount  IsWon  \\\n",
       "2   0062M00000kbwbXQAQ  Closed Lost   9150.0  False   \n",
       "4   0062M00000kbwv8QAA  Closed Lost   7090.0  False   \n",
       "19  0062M00000kc2WUQAY  Closed Lost  10000.0  False   \n",
       "20  0062M00000kc44SQAQ   Closed Won  10600.0   True   \n",
       "22  0062M00000kc51NQAQ   Closed Won  10000.0   True   \n",
       "24  0062M00000kc6E3QAI   Closed Won  10500.0   True   \n",
       "47  0062M00000kcCkqQAE  Closed Lost  12000.0  False   \n",
       "54  0062M00000kcF70QAE   Closed Won  22850.0   True   \n",
       "62  0062M00000kcHIrQAM  Closed Lost  10350.0  False   \n",
       "64  0062M00000kcHmrQAE  Closed Lost  15000.0  False   \n",
       "\n",
       "   Confirmed_Session_Date_Time__c  Budget_Confirmed__c  \n",
       "2    2020-07-09T16:00:00.000+0000                False  \n",
       "4    2020-07-14T23:00:00.000+0000                False  \n",
       "19   2020-08-03T19:00:00.000+0000                False  \n",
       "20   2020-08-04T19:00:00.000+0000                False  \n",
       "22   2020-07-21T23:00:00.000+0000                False  \n",
       "24   2020-07-13T20:00:00.000+0000                False  \n",
       "47   2020-07-14T02:00:00.000+0000                False  \n",
       "54   2020-07-17T00:00:00.000+0000                False  \n",
       "62   2020-08-20T16:00:00.000+0000                False  \n",
       "64   2020-08-04T19:00:00.000+0000                False  "
      ]
     },
     "execution_count": 52,
     "metadata": {},
     "output_type": "execute_result"
    }
   ],
   "source": [
    "book_df"
   ]
  },
  {
   "cell_type": "markdown",
   "metadata": {},
   "source": [
    "# MySQL Connection"
   ]
  },
  {
   "cell_type": "code",
   "execution_count": 60,
   "metadata": {},
   "outputs": [],
   "source": [
    "db_user = os.getenv('db_user')\n",
    "db_passwd = os.getenv('db_passwd')"
   ]
  },
  {
   "cell_type": "code",
   "execution_count": 65,
   "metadata": {},
   "outputs": [],
   "source": [
    "# Create a database\n",
    "mycursor = mydb.cursor()\n",
    "\n",
    "# This line is commented out because it only needs to be run once\n",
    "# mycursor.execute(\"CREATE DATABASE BIntelligenceDB\")"
   ]
  },
  {
   "cell_type": "code",
   "execution_count": 63,
   "metadata": {},
   "outputs": [
    {
     "name": "stdout",
     "output_type": "stream",
     "text": [
      "<mysql.connector.connection.MySQLConnection object at 0x7fdeac9b7cd0>\n"
     ]
    }
   ],
   "source": [
    "mydb = mysql.connector.connect(host='localhost',\\\n",
    "                              user=db_user,\\\n",
    "                              passwd=db_passwd\\\n",
    "                              ,database='BIntelligenceDB'\\\n",
    "                              )\n",
    "                               \n",
    "print(mydb)"
   ]
  },
  {
   "cell_type": "code",
   "execution_count": 55,
   "metadata": {},
   "outputs": [],
   "source": []
  },
  {
   "cell_type": "code",
   "execution_count": 67,
   "metadata": {},
   "outputs": [
    {
     "name": "stdout",
     "output_type": "stream",
     "text": [
      "('BIntelligenceDB',)\n",
      "('classicmodels',)\n",
      "('employees',)\n",
      "('information_schema',)\n",
      "('mysql',)\n",
      "('performance_schema',)\n",
      "('Sales',)\n",
      "('sys',)\n",
      "('testdb',)\n"
     ]
    }
   ],
   "source": [
    "mycursor.execute(\"SHOW DATABASES\")\n",
    "\n",
    "for db in mycursor:\n",
    "    print(db)"
   ]
  },
  {
   "cell_type": "code",
   "execution_count": null,
   "metadata": {},
   "outputs": [],
   "source": []
  },
  {
   "cell_type": "code",
   "execution_count": null,
   "metadata": {},
   "outputs": [],
   "source": []
  },
  {
   "cell_type": "code",
   "execution_count": null,
   "metadata": {},
   "outputs": [],
   "source": []
  }
 ],
 "metadata": {
  "kernelspec": {
   "display_name": "Python 3",
   "language": "python",
   "name": "python3"
  },
  "language_info": {
   "codemirror_mode": {
    "name": "ipython",
    "version": 3
   },
   "file_extension": ".py",
   "mimetype": "text/x-python",
   "name": "python",
   "nbconvert_exporter": "python",
   "pygments_lexer": "ipython3",
   "version": "3.7.7"
  },
  "toc": {
   "base_numbering": 1,
   "nav_menu": {},
   "number_sections": true,
   "sideBar": true,
   "skip_h1_title": false,
   "title_cell": "Table of Contents",
   "title_sidebar": "Contents",
   "toc_cell": false,
   "toc_position": {
    "height": "calc(100% - 180px)",
    "left": "10px",
    "top": "150px",
    "width": "309px"
   },
   "toc_section_display": true,
   "toc_window_display": true
  }
 },
 "nbformat": 4,
 "nbformat_minor": 4
}
